{
 "cells": [
  {
   "cell_type": "code",
   "execution_count": 1,
   "metadata": {},
   "outputs": [],
   "source": [
    "def tokenize(lyric):\n",
    "    lyric = lyric.lower() # converte para maiúsculas\n",
    "    all_words = re.findall(\"[a-z0-9']+\", lyric) # extrai as palavras\n",
    "    return set(all_words) # set() remove palavras duplicadas\n",
    "\n",
    "def count_words(training_set):\n",
    "    \"\"\"o conjunto em treinamento consiste de pares (lyric, genre)\"\"\"\n",
    "    counts = defaultdict(lambda: [0,0,0,0])\n",
    "    for lyric, genre in training_set:\n",
    "        for word in tokenize(lyric):\n",
    "            counts[word][genre] += 1\n",
    "    return counts\n",
    "\n",
    "def word_probabilities(counts, total_bossa, total_funk, total_gospel, total_sertanejo, k=0.5):\n",
    "    \"\"\"transforma o word_counts em uma lista de quinplas w, p(w|bossa), p(w|funk), p(w|gospel) e p(w|sert) \"\"\"\n",
    "    return [(w,\n",
    "             (bossa + k) / (total_bossa + 2 * k),\n",
    "             (funk + k) / (total_funk + 2 * k),\n",
    "             (gospel + k) / (total_gospel + 2 * k),\n",
    "             (sertanejo + k) / (total_sertanejo + 2 * k))\n",
    "        for w, (bossa, funk, gospel, sertanejo) in counts.iteritems()]\n",
    "\n",
    "import math\n",
    "\n",
    "def genre_probability(word_probs, message):\n",
    "    message_words = tokenize(message)\n",
    "    log_prob_if_bossa = log_prob_if_funk = log_prob_if_sertanejo = log_prob_if_gospel = 0.0\n",
    "    \n",
    "    # iterate through each word in our vocabulary\n",
    "    for word, prob_if_bossa, prob_if_funk, prob_if_sertanejo, prob_if_gospel in word_probs:\n",
    "        # if *word* appears in the message,\n",
    "        # add the log probability of seeing it\n",
    "        if word in message_words:\n",
    "            log_prob_if_bossa += math.log(prob_if_bossa)\n",
    "            log_prob_if_funk += math.log(prob_if_funk)\n",
    "            log_prob_if_sertanejo += math.log(prob_if_sertanejo)\n",
    "            log_prob_if_gospel += math.log(prob_if_gospel)\n",
    "        # if *word* doesn't appear in the message\n",
    "        # add the log probability of _not_ seeing it\n",
    "        # which is log(1 - probability of seeing it)\n",
    "        else:\n",
    "            log_prob_if_bossa += math.log(1.0 - prob_if_bossa)\n",
    "            log_prob_if_funk += math.log(1.0 - prob_if_funk)\n",
    "            log_prob_if_sertanejo += math.log(1.0 - prob_if_sertanejo)\n",
    "            log_prob_if_gospel += math.log(1.0 - prob_if_gospel)\n",
    "    prob_if_bossa = math.exp(log_prob_if_bossa)\n",
    "    prob_if_funk = math.exp(log_prob_if_funk)\n",
    "    prob_if_sertanejo = math.exp(log_prob_if_sertanejo)\n",
    "    prob_if_gospel = math.exp(log_prob_if_gospel)\n",
    "    prob_total = prob_if_bossa + prob_if_funk + prob_if_sertanejo + prob_if_gospel\n",
    "    return [prob_if_bossa / prob_total, prob_if_funk / prob_total, prob_if_sertanejo / prob_total, prob_if_gospel / prob_total]\n",
    "\n",
    "class NaiveBayesClassifier:\n",
    "    \n",
    "    # construtor da classe\n",
    "    def __init__(self,genre='bossa', k=0.5):\n",
    "        self.k = k\n",
    "        self.genre = genre\n",
    "        self.word_probs = []\n",
    "        \n",
    "    def train(self, training_set):\n",
    "        \n",
    "        # conta letras de cada genero\n",
    "        num_bossa = len([is_bossa for lyric, is_bossa in training_set if is_bossa])\n",
    "        num_funk = len([is_funk for lyric, is_funk in training_set if is_funk])\n",
    "        num_gospel = len([is_gospel for lyric, is_gospel in training_set if is_gospel])\n",
    "        num_sertanejo = len([is_sertanejo for lyric, is_sertanejo in training_set if is_sertanejo])\n",
    "        \n",
    "        # roda dados de treinamento pela nossa \"pipeline\"\n",
    "        word_counts = count_words(training_set)\n",
    "        self.word_probs = word_probabilities(word_counts, num_bossa, num_funk, num_gospel, num_sertanejo, self.k)\n",
    "        \n",
    "    def classify(self, lyric):\n",
    "        return genre_probability(self.word_probs, lyric)\n",
    "    \n"
   ]
  },
  {
   "cell_type": "code",
   "execution_count": 2,
   "metadata": {},
   "outputs": [],
   "source": [
    "import glob, re\n",
    "# modify the path with wherever you've put the files\n",
    "path = r\"H:\\datasets\\lyrics\\*\"\n",
    "data = []\n",
    "# glob.glob returns every filename that matches the wildcarded path\n",
    "for fn in glob.glob(path):\n",
    "    lyric = ''\n",
    "    genre = 0 if \"bossa\" in fn else 1 if \"funk\" in fn else 2 if \"sertanejo\" in fn else 3 if \"gospel\" in fn else -1\n",
    "    is_spam = \"ham\" not in fn\n",
    "    \n",
    "    with open(fn,'r') as file:\n",
    "        for line in file:\n",
    "            if line.startswith(\"lyric\"):\n",
    "                continue\n",
    "            elif line.startswith('\"'):\n",
    "                if not lyric:\n",
    "                    continue\n",
    "                else:\n",
    "                    data.append((lyric, genre))\n",
    "                    lyric = ''\n",
    "            else:\n",
    "                lyric += line.replace('\"', '').replace(\"'\", \"\").rstrip().lstrip() + ' '"
   ]
  },
  {
   "cell_type": "code",
   "execution_count": 3,
   "metadata": {},
   "outputs": [],
   "source": [
    "#data"
   ]
  },
  {
   "cell_type": "code",
   "execution_count": 4,
   "metadata": {},
   "outputs": [],
   "source": [
    "import random\n",
    "from collections import defaultdict\n",
    "\n",
    "def split_data(data,prob):\n",
    "    \"\"\" divide os dados em fracoes [prob, 1 - prob] \"\"\"\n",
    "    result = [],[]\n",
    "    for row in data: result[0 if random.random() < prob else 1].append(row)\n",
    "    return result"
   ]
  },
  {
   "cell_type": "code",
   "execution_count": 5,
   "metadata": {},
   "outputs": [],
   "source": [
    "random.seed(0)\n",
    "train_data, test_data = split_data(data,0.75)"
   ]
  },
  {
   "cell_type": "code",
   "execution_count": 6,
   "metadata": {},
   "outputs": [],
   "source": [
    "# criando e treinando um classificador\n",
    "classifier = NaiveBayesClassifier()\n",
    "classifier.train(train_data)"
   ]
  },
  {
   "cell_type": "code",
   "execution_count": 8,
   "metadata": {},
   "outputs": [
    {
     "name": "stdout",
     "output_type": "stream",
     "text": [
      "[8.708203795945177e-06, 2.0101258992045952e-05, 0.009767214986067002, 0.990203975551145]\n"
     ]
    }
   ],
   "source": [
    "print classifier.classify('Não conte os teus maiores sonhos a ninguém Não mostre a sua ferida para quem não tem Remédio pra curá-la e forças para te erguer Não não não não')"
   ]
  },
  {
   "cell_type": "code",
   "execution_count": null,
   "metadata": {},
   "outputs": [],
   "source": []
  }
 ],
 "metadata": {
  "kernelspec": {
   "display_name": "Python 2",
   "language": "python",
   "name": "python2"
  },
  "language_info": {
   "codemirror_mode": {
    "name": "ipython",
    "version": 2
   },
   "file_extension": ".py",
   "mimetype": "text/x-python",
   "name": "python",
   "nbconvert_exporter": "python",
   "pygments_lexer": "ipython2",
   "version": "2.7.14"
  }
 },
 "nbformat": 4,
 "nbformat_minor": 2
}
