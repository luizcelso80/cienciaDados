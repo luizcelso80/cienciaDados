{
 "cells": [
  {
   "cell_type": "code",
   "execution_count": 1,
   "metadata": {},
   "outputs": [],
   "source": [
    "from random import randint as rand\n",
    "import numpy as np\n",
    "import matplotlib.pyplot as plt\n",
    "from __future__ import division\n",
    "import math\n",
    "\n",
    "data = np.genfromtxt('C:\\\\Users\\\\Zatara\\\\anaconda\\\\seeds_dataset.txt', delimiter='', usecols=(0,1,2,3,4,5,6))\n",
    "\n",
    "def vector_subtract(v, w):\n",
    "    ##\n",
    "    \"\"\"subtracts corresponding elements\"\"\"\n",
    "    return [v_i - w_i\n",
    "            for v_i, w_i in zip(v, w)]\n",
    "\n",
    "def get_column(A, j):\n",
    "    return [A_i[j] # jth element of row A_i\n",
    "            for A_i in A] # for each row A_i\n",
    "\n",
    "def dot(v, w):\n",
    "    \"\"\"v_1 * w_1 + ... + v_n * w_n\"\"\"\n",
    "    return sum(v_i * w_i for v_i, w_i in zip(v, w))\n",
    "\n",
    "def sum_of_squares(v):\n",
    "    \"\"\"v_1 * v_1 + ... + v_n * v_n\"\"\"\n",
    "    return dot(v, v)\n",
    "\n",
    "def squared_distance(v, w):\n",
    "    \"\"\"(v_1 - w_1) ** 2 + ... + (v_n - w_n) ** 2\"\"\"\n",
    "    return sum_of_squares(vector_subtract(v, w))\n",
    "\n",
    "def magnitude(v):\n",
    "    return math.sqrt(sum_of_squares(v))\n",
    "\n",
    "def distance(v, w):\n",
    "    return magnitude(vector_subtract(v, w))\n",
    "\n",
    "def shape(A):\n",
    "    num_rows = len(A)\n",
    "    num_cols = len(A[0]) if A else 0 # number of elements in first row\n",
    "    return num_rows, num_cols\n",
    "\n"
   ]
  },
  {
   "cell_type": "markdown",
   "metadata": {},
   "source": [
    "Exercicio 1"
   ]
  },
  {
   "cell_type": "code",
   "execution_count": 2,
   "metadata": {},
   "outputs": [
    {
     "data": {
      "image/png": "[encoded data removed]",
      "text/plain": [
       "<matplotlib.figure.Figure at 0xabaae48>"
      ]
     },
     "metadata": {},
     "output_type": "display_data"
    }
   ],
   "source": [
    "CompLargs = [\"K-Comp\",\"K-Larg\",\"R-Comp\",\"R-Larg\",\"C-Comp\",\"C-Larg\"]\n",
    "\n",
    "kama=[np.mean(get_column(data[0:70], i)) for i in range(3,5)]\n",
    "rosa=[np.mean(get_column(data[70:140], i)) for i in range(3,5)]\n",
    "canadian=[np.mean(get_column(data[140:210], i)) for i in range(3,5)]\n",
    "\n",
    "medidas=kama+rosa+canadian\n",
    "\n",
    "xs = [i + 0.1 for i, _ in enumerate(CompLargs)]\n",
    "\n",
    "plt.bar(xs, medidas)\n",
    "plt.ylabel(\"Medidas sementes\")\n",
    "plt.title(\"Sementes\") \n",
    "plt.xticks([i + 0.1 for i, _ in enumerate(CompLargs)], CompLargs)\n",
    "plt.show()"
   ]
  },
  {
   "cell_type": "code",
   "execution_count": null,
   "metadata": {},
   "outputs": [],
   "source": [
    "Fim Exercicio 1\n",
    "\n",
    "Exercicio 2"
   ]
  },
  {
   "cell_type": "code",
   "execution_count": 3,
   "metadata": {},
   "outputs": [
    {
     "name": "stdout",
     "output_type": "stream",
     "text": [
      "[[54, 78, 66, 45], [8, 96, 61, 85], [61, 17, 47, 8]]\n",
      "[41.0, 63.666666666666664, 58.0, 46.0]\n"
     ]
    }
   ],
   "source": [
    "def geraMatriz(num_rows,num_cols) :\n",
    "    return [[rand(0,100) for j in range(num_cols)] for i in range(num_rows)]\n",
    "\n",
    "minhaMatriz = geraMatriz(3,4)\n",
    "print minhaMatriz     \n",
    "\n",
    "def mediaRowCol(matriz,rowcol):\n",
    "    lin,col = shape(matriz)\n",
    "    if rowcol <> 'i' and rowcol <> 'j':\n",
    "        return 'Valor incorreto coluna ou linha'\n",
    "    if rowcol == 'i':\n",
    "        return [np.mean(matriz[i]) for i in range(0, lin)]   \n",
    "    return [np.mean(get_column(matriz, i)) for i in range(0, col)]\n",
    "        \n",
    "\n",
    "print mediaRowCol(minhaMatriz,'j')"
   ]
  },
  {
   "cell_type": "markdown",
   "metadata": {},
   "source": [
    "Exercicio 3"
   ]
  },
  {
   "cell_type": "code",
   "execution_count": 4,
   "metadata": {},
   "outputs": [
    {
     "name": "stdout",
     "output_type": "stream",
     "text": [
      "1.20042123544\n",
      "3.75236008975\n",
      "4.59327820487\n",
      "kama\n"
     ]
    }
   ],
   "source": [
    "\n",
    "\n",
    "def tipoSemente(nova):\n",
    "    data = np.genfromtxt('C:\\\\Users\\\\Zatara\\\\anaconda\\\\seeds_dataset.txt', delimiter='', usecols=(0,1,2,3,4,5,6))\n",
    "    kama = [np.mean(get_column(data[0:70], i)) for i in range(0,7)]\n",
    "    rosa = [np.mean(get_column(data[70:140], i)) for i in range(0,7)]\n",
    "    canadian = [np.mean(get_column(data[140:210], i)) for i in range(0,7)]\n",
    "\n",
    "    dist_kama = distance(kama, nova)\n",
    "    dist_rosa = distance(rosa, nova)\n",
    "    dist_canadian = distance(canadian, nova)\n",
    "    print dist_kama\n",
    "    print dist_rosa\n",
    "    print dist_canadian\n",
    "    \n",
    "    if dist_kama < dist_rosa:\n",
    "        if dist_kama < dist_canadian:\n",
    "            return 'kama'\n",
    "        else:\n",
    "            return 'canadian'\n",
    "    elif dist_rosa < dist_canadian:\n",
    "        return 'rosa'\n",
    "    else:\n",
    "        return 'canadian'\n",
    "    \n",
    "print tipoSemente([15.26,14.84,0.871,5.763,3.312,2.221,5.22])"
   ]
  },
  {
   "cell_type": "markdown",
   "metadata": {},
   "source": [
    "Fim Exercicio 3\n",
    "\n",
    "Exercicio 4"
   ]
  },
  {
   "cell_type": "code",
   "execution_count": 5,
   "metadata": {},
   "outputs": [
    {
     "data": {
      "image/png": "[encoded data removed]",
      "text/plain": [
       "<matplotlib.figure.Figure at 0x7389c88>"
      ]
     },
     "metadata": {},
     "output_type": "display_data"
    }
   ],
   "source": [
    "largura=[(get_column(data[70:140], i)) for i in range(4,5)]\n",
    "comprimento=[(get_column(data[70:140], i)) for i in range(3,4)]\n",
    "\n",
    "plt.scatter(largura, comprimento)\n",
    "plt.title(\"Rosa\")\n",
    "plt.xlabel(\"Largura\")\n",
    "plt.ylabel(\"Comprimento\")\n",
    "plt.show()\n",
    "\n"
   ]
  },
  {
   "cell_type": "code",
   "execution_count": null,
   "metadata": {},
   "outputs": [],
   "source": []
  }
 ],
 "metadata": {
  "kernelspec": {
   "display_name": "Python 2",
   "language": "python",
   "name": "python2"
  },
  "language_info": {
   "codemirror_mode": {
    "name": "ipython",
    "version": 2
   },
   "file_extension": ".py",
   "mimetype": "text/x-python",
   "name": "python",
   "nbconvert_exporter": "python",
   "pygments_lexer": "ipython2",
   "version": "2.7.14"
  }
 },
 "nbformat": 4,
 "nbformat_minor": 2
}
