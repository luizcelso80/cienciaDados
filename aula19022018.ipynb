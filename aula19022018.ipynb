{
 "cells": [
  {
   "cell_type": "code",
   "execution_count": 1,
   "metadata": {},
   "outputs": [
    {
     "name": "stdout",
     "output_type": "stream",
     "text": [
      "1 Esse é o i \n",
      "###########\n",
      "Esse é o J sozinho 1\n",
      "A soma de i = 1 com o j = 1=2\n",
      "xxxxxxxxxxxxxxxxxxx\n",
      "Esse é o J sozinho 2\n",
      "A soma de i = 1 com o j = 2=3\n",
      "xxxxxxxxxxxxxxxxxxx\n",
      "Esse é o J sozinho 3\n",
      "A soma de i = 1 com o j = 3=4\n",
      "xxxxxxxxxxxxxxxxxxx\n",
      "Esse é o J sozinho 4\n",
      "A soma de i = 1 com o j = 4=5\n",
      "xxxxxxxxxxxxxxxxxxx\n",
      "Esse é o J sozinho 5\n",
      "A soma de i = 1 com o j = 5=6\n",
      "xxxxxxxxxxxxxxxxxxx\n",
      "2 Esse é o i \n",
      "###########\n",
      "Esse é o J sozinho 1\n",
      "A soma de i = 2 com o j = 1=3\n",
      "xxxxxxxxxxxxxxxxxxx\n",
      "Esse é o J sozinho 2\n",
      "A soma de i = 2 com o j = 2=4\n",
      "xxxxxxxxxxxxxxxxxxx\n",
      "Esse é o J sozinho 3\n",
      "A soma de i = 2 com o j = 3=5\n",
      "xxxxxxxxxxxxxxxxxxx\n",
      "Esse é o J sozinho 4\n",
      "A soma de i = 2 com o j = 4=6\n",
      "xxxxxxxxxxxxxxxxxxx\n",
      "Esse é o J sozinho 5\n",
      "A soma de i = 2 com o j = 5=7\n",
      "xxxxxxxxxxxxxxxxxxx\n",
      "3 Esse é o i \n",
      "###########\n",
      "Esse é o J sozinho 1\n",
      "A soma de i = 3 com o j = 1=4\n",
      "xxxxxxxxxxxxxxxxxxx\n",
      "Esse é o J sozinho 2\n",
      "A soma de i = 3 com o j = 2=5\n",
      "xxxxxxxxxxxxxxxxxxx\n",
      "Esse é o J sozinho 3\n",
      "A soma de i = 3 com o j = 3=6\n",
      "xxxxxxxxxxxxxxxxxxx\n",
      "Esse é o J sozinho 4\n",
      "A soma de i = 3 com o j = 4=7\n",
      "xxxxxxxxxxxxxxxxxxx\n",
      "Esse é o J sozinho 5\n",
      "A soma de i = 3 com o j = 5=8\n",
      "xxxxxxxxxxxxxxxxxxx\n",
      "4 Esse é o i \n",
      "###########\n",
      "Esse é o J sozinho 1\n",
      "A soma de i = 4 com o j = 1=5\n",
      "xxxxxxxxxxxxxxxxxxx\n",
      "Esse é o J sozinho 2\n",
      "A soma de i = 4 com o j = 2=6\n",
      "xxxxxxxxxxxxxxxxxxx\n",
      "Esse é o J sozinho 3\n",
      "A soma de i = 4 com o j = 3=7\n",
      "xxxxxxxxxxxxxxxxxxx\n",
      "Esse é o J sozinho 4\n",
      "A soma de i = 4 com o j = 4=8\n",
      "xxxxxxxxxxxxxxxxxxx\n",
      "Esse é o J sozinho 5\n",
      "A soma de i = 4 com o j = 5=9\n",
      "xxxxxxxxxxxxxxxxxxx\n",
      "5 Esse é o i \n",
      "###########\n",
      "Esse é o J sozinho 1\n",
      "A soma de i = 5 com o j = 1=6\n",
      "xxxxxxxxxxxxxxxxxxx\n",
      "Esse é o J sozinho 2\n",
      "A soma de i = 5 com o j = 2=7\n",
      "xxxxxxxxxxxxxxxxxxx\n",
      "Esse é o J sozinho 3\n",
      "A soma de i = 5 com o j = 3=8\n",
      "xxxxxxxxxxxxxxxxxxx\n",
      "Esse é o J sozinho 4\n",
      "A soma de i = 5 com o j = 4=9\n",
      "xxxxxxxxxxxxxxxxxxx\n",
      "Esse é o J sozinho 5\n",
      "A soma de i = 5 com o j = 5=10\n",
      "xxxxxxxxxxxxxxxxxxx\n"
     ]
    }
   ],
   "source": [
    "for i in [1,2,3,4,5]:\n",
    "    print str(i) + ' Esse é o i '\n",
    "    print '###########'\n",
    "    for j in [1,2,3,4,5]:\n",
    "        \n",
    "        print  'Esse é o J sozinho ' + str(j)\n",
    "        print 'A soma de i = ' + str(i) + ' com o j = ' + str(j) + '=' + str(i + j)\n",
    "        \n",
    "        print 'xxxxxxxxxxxxxxxxxxx'"
   ]
  },
  {
   "cell_type": "code",
   "execution_count": 4,
   "metadata": {},
   "outputs": [
    {
     "name": "stdout",
     "output_type": "stream",
     "text": [
      "5\n",
      "91\n",
      "[[1, 2, 3], [4, 5, 6], [7, 8, 9]]\n"
     ]
    }
   ],
   "source": [
    "soma_longa = (1+2+3+4+5+6+7+8+9+10+11+12+13)\n",
    "\n",
    "lista_de_lista = [[1,2,3], [4,5,6], [7,8,9]]\n",
    "\n",
    "lista_de_lista2 = [\n",
    "    [1,2,3],\n",
    "    [4,5,6],\n",
    "    [7,8,9]\n",
    "]\n",
    "\n",
    "dois_mais_tres = 2 + \\\n",
    "                3\n",
    "    \n",
    "print dois_mais_tres\n",
    "print soma_longa\n",
    "print lista_de_lista\n"
   ]
  },
  {
   "cell_type": "markdown",
   "metadata": {},
   "source": [
    "Modulos \n",
    "Alguns recursos de python não são carregados por padrão,\n",
    "assim para usa-los precisamos \"importar\" (import) os modulos.\n",
    "\n",
    "\n"
   ]
  },
  {
   "cell_type": "code",
   "execution_count": 2,
   "metadata": {},
   "outputs": [
    {
     "name": "stdout",
     "output_type": "stream",
     "text": [
      "<_sre.SRE_Pattern object at 0x00000000067F1530>\n"
     ]
    }
   ],
   "source": [
    "import re\n",
    "\n",
    "my_regex = re.compile(\"[0-9]+\", re.I)\n",
    "print my_regex"
   ]
  },
  {
   "cell_type": "code",
   "execution_count": 6,
   "metadata": {},
   "outputs": [],
   "source": [
    "import matplotlib.pyplot as plt\n",
    "from collections import defaultdict, Counter\n",
    "\n",
    "lookup = defaultdict(int)\n",
    "\n",
    "my_counter = Counter()"
   ]
  },
  {
   "cell_type": "markdown",
   "metadata": {},
   "source": [
    "Aritimetica\n",
    "Python 2.7 usa divisao inteira por padrao, assim 5 / 2 = 2 e nao 2.5\n",
    "Para corrigir isso faça\n",
    "from __future__ import division\n",
    "Agora 5 / 2 = 2.5\n",
    "Caso voce queira a divisao inteira, basta usar //\n",
    "5 // 2 = 2\n",
    "\n",
    "Funcoes\n",
    "Como ja vimos, em python utilizamos def para criar uma funcao\n",
    "\n",
    "\n",
    "\n",
    "\n"
   ]
  },
  {
   "cell_type": "code",
   "execution_count": 17,
   "metadata": {},
   "outputs": [
    {
     "name": "stdout",
     "output_type": "stream",
     "text": [
      "2\n",
      "5\n",
      "5\n",
      "Ola python\n",
      "mensagem padrao\n"
     ]
    }
   ],
   "source": [
    "def double(x):\n",
    "    \"\"\" Comentario de multiplas linhas\n",
    "        Usado para explicar oque uma funcao faz\n",
    "        Ex: Esta funcao multiplica o valor passado\n",
    "        por parametro por 2\n",
    "    \"\"\"\n",
    "    return x * 2\n",
    "\n",
    "\"\"\"Podemos atribuir funcoes a variaveis e tambem passa-las como parametro de funcoes.\"\"\"\n",
    "\n",
    "def apply_to_one(f):\n",
    "    \"\"\"chama a funcao f passando 1 como argumento\"\"\"\n",
    "    return f(1)\n",
    "\n",
    "my_double = double\n",
    "\n",
    "x = apply_to_one(my_double)\n",
    "\n",
    "print x\n",
    "\n",
    "\"\"\"Tambem é facil criar pequenas funcoes anonimas\n",
    "mas conhecidas como lambdas\"\"\"\n",
    "\n",
    "def f2(x):\n",
    "    return x + 4\n",
    "\n",
    "y = apply_to_one(lambda x: x + 4)\n",
    "\n",
    "z = apply_to_one(f2)\n",
    "\n",
    "print y\n",
    "print z\n",
    "\n",
    "\"\"\"Parametros de funcoes podem ter valor padrao\"\"\"\n",
    "\n",
    "def my_print(message = \"mensagem padrao\"):\n",
    "    print message\n",
    "    \n",
    "my_print(\"Ola python\")\n",
    "\n",
    "my_print()\n",
    "\n"
   ]
  },
  {
   "cell_type": "markdown",
   "metadata": {},
   "source": [
    "Strings\n",
    "Podem ser delimitadas por aspas \" ou apostrofos ' , contudo precisam combinar\n",
    "\n",
    "\n"
   ]
  },
  {
   "cell_type": "code",
   "execution_count": 31,
   "metadata": {},
   "outputs": [
    {
     "name": "stdout",
     "output_type": "stream",
     "text": [
      "1\n",
      "2\n"
     ]
    }
   ],
   "source": [
    "string_aspas = \"data science\"\n",
    "\n",
    "string_apostrofo = 'data science'\n",
    "\n",
    "\"\"\"Python usa a barra invertida (\\) oara codificar caracteres especiais\"\"\"\n",
    "\n",
    "tab_string = \"\\t\"\n",
    "\n",
    "print len(tab_string)\n",
    "\n",
    "\"\"\"Caso voce queira a propria barra invertida como caracter, devera usar 'r' \"\"\"\n",
    "\n",
    "not_tab_string = r\"\\t\"\n",
    "\n",
    "print len(not_tab_string)"
   ]
  },
  {
   "cell_type": "markdown",
   "metadata": {},
   "source": [
    "Excecoes\n",
    "Quando algo sai errado python dispara uma excecao que , se nao for tratada, vai finalizar o programa"
   ]
  },
  {
   "cell_type": "code",
   "execution_count": 39,
   "metadata": {},
   "outputs": [
    {
     "name": "stdout",
     "output_type": "stream",
     "text": [
      "Dividir por zero nao pode filha da puta\n"
     ]
    }
   ],
   "source": [
    "try:\n",
    "    print 3 / 0\n",
    "except ZeroDivisionError:\n",
    "    print \"Dividir por zero nao pode filha da puta\""
   ]
  },
  {
   "cell_type": "markdown",
   "metadata": {},
   "source": [
    "Listas\n",
    "A lista é provavelmente a estrutura mais fundamental em python.Ela é similar a um array mas com algumas funcionalidades"
   ]
  },
  {
   "cell_type": "code",
   "execution_count": 2,
   "metadata": {},
   "outputs": [
    {
     "name": "stdout",
     "output_type": "stream",
     "text": [
      "3\n",
      "6\n",
      "['fib', 97, True]\n",
      "[0, 1, 2, 3, 4, 5, 6, 7, 8, 9]\n",
      "[-1, 1, 2]\n",
      "[3, 4, 5, 6, 7, 8, 9]\n",
      "[1, 2, 3, 4, 5]\n",
      "7\n",
      "[1, 2, 3, 4, 5, 6, 7, 8]\n",
      "[1, 2, 3]\n",
      "[1, 2, 3, 4, 5, 6]\n"
     ]
    }
   ],
   "source": [
    "int_list = [1,2,3]\n",
    "\n",
    "multi_list = [\"fib\", 97, True]\n",
    "\n",
    "list_of_list = [int_list, multi_list, []]\n",
    "\n",
    "print len(int_list)\n",
    "\n",
    "print sum(int_list)\n",
    "\n",
    "print multi_list\n",
    "\n",
    "\"\"\"Obter ou atribuir o enesimo elemento\"\"\"\n",
    "\n",
    "x = range(10)\n",
    "print x\n",
    "zero = x[0]\n",
    "um = x[1]\n",
    "nove = x[-1]\n",
    "x[0] = -1\n",
    "\n",
    "\"\"\"Tambem podemos usar colchetes para fatyiar uma lista\"\"\"\n",
    "\n",
    "\"\"\"inicio : fim (quando nao passamos o inicio , comeca em zero)\"\"\"\n",
    "tres_primeiros = x[:3]\n",
    "\n",
    "a_partir_tres = x[3:]\n",
    "\n",
    "de_um_a_cinco = x[1:6]\n",
    "\n",
    "tres_ultimos = x[-3]\n",
    "\n",
    "sem_primeiro_ultimo = x[1:-1]\n",
    "\n",
    "print tres_primeiros\n",
    "print a_partir_tres\n",
    "print de_um_a_cinco\n",
    "print tres_ultimos\n",
    "print sem_primeiro_ultimo\n",
    "\n",
    "\"\"\"Concatenar listas\"\"\"\n",
    "\n",
    "x = [1,2,3]\n",
    "print x\n",
    "\n",
    "x.extend([4,5,6])\n",
    "\n",
    "print x\n",
    "\n",
    "\n",
    "\n",
    "\n"
   ]
  },
  {
   "cell_type": "code",
   "execution_count": 6,
   "metadata": {},
   "outputs": [
    {
     "name": "stdout",
     "output_type": "stream",
     "text": [
      "1 2\n"
     ]
    }
   ],
   "source": [
    "x, y = [1,2,]\n",
    "print x, y"
   ]
  },
  {
   "cell_type": "markdown",
   "metadata": {},
   "source": [
    "Tuplas\n",
    "Tuplas sao primos imutaveis das listas \n",
    "Voce especifica uma tupla usando parenteses em vez de colchete"
   ]
  },
  {
   "cell_type": "code",
   "execution_count": 11,
   "metadata": {},
   "outputs": [
    {
     "name": "stdout",
     "output_type": "stream",
     "text": [
      "cannot modify a tuple\n",
      "(5, 6)\n",
      "15 50\n"
     ]
    }
   ],
   "source": [
    "my_list = [1,2]\n",
    "my_tuple = (1,2)\n",
    "other_tuple = 3,4\n",
    "my_list[1] = 3\n",
    "\n",
    "try:\n",
    "    my_tuple[1] = 3\n",
    "except TypeError:\n",
    "    print \"cannot modify a tuple\"\n",
    "    \n",
    "\"\"\"\"\"\"\n",
    "\n",
    "def sum_and_product(x, y):\n",
    "    return (x + y),(x * y)\n",
    "\n",
    "sp = sum_and_product(2, 3) # equals (5, 6)\n",
    "print sp\n",
    "s, p = sum_and_product(5, 10) # s is 15, p is 50\n",
    "print s,p"
   ]
  },
  {
   "cell_type": "code",
   "execution_count": 10,
   "metadata": {},
   "outputs": [
    {
     "name": "stdout",
     "output_type": "stream",
     "text": [
      "1 2\n",
      "2 1\n"
     ]
    }
   ],
   "source": [
    "x, y = 1, 2 # now x is 1, y is 2\n",
    "\n",
    "print x, y\n",
    "x, y = y, x # Pythonic way to swap variables; now x is 2, y is 1\n",
    "print x, y"
   ]
  },
  {
   "cell_type": "markdown",
   "metadata": {},
   "source": [
    "Dicionarios\n",
    "\n",
    "Outra estrutura de dados fundamental em python.\n",
    "Associa chaves a valores e permite rapido acesso aos dados"
   ]
  },
  {
   "cell_type": "code",
   "execution_count": 18,
   "metadata": {},
   "outputs": [
    {
     "name": "stdout",
     "output_type": "stream",
     "text": [
      "{'Tim': 95, 'Joel': 80}\n"
     ]
    }
   ],
   "source": [
    "empty_dict = {} # Pythonic\n",
    "empty_dict2 = dict() # less Pythonic\n",
    "grades = { \"Joel\" : 80, \"Tim\" : 95 } # dictionary literal\n",
    "print grades"
   ]
  },
  {
   "cell_type": "code",
   "execution_count": 19,
   "metadata": {},
   "outputs": [
    {
     "name": "stdout",
     "output_type": "stream",
     "text": [
      "{'Tim': 99, 'Joel': 80}\n",
      "{'Tim': 99, 'Joel': 80, 'Kate': 100}\n",
      "3\n"
     ]
    }
   ],
   "source": [
    "\"\"\"Buscando valores usando chaves\"\"\"\n",
    "\n",
    "\n",
    "\n",
    "\n",
    "grades[\"Tim\"] = 99 # replaces the old value\n",
    "print grades\n",
    "grades[\"Kate\"] = 100 # adds a third entry\n",
    "print grades\n",
    "num_students = len(grades) # equals 3\n",
    "print num_students"
   ]
  },
  {
   "cell_type": "markdown",
   "metadata": {},
   "source": [
    "é comum usar dicionario para criar estruturas complexas\n"
   ]
  },
  {
   "cell_type": "code",
   "execution_count": 23,
   "metadata": {},
   "outputs": [
    {
     "name": "stdout",
     "output_type": "stream",
     "text": [
      "{'text': 'Data Science is Awesome', 'retweet_count': 100, 'hashtags': ['#data', '#science', '#datascience', '#awesome', '#yolo'], 'user': 'joelgrus'}\n",
      "4\n",
      "[('text', 'Data Science is Awesome'), ('retweet_count', 100), ('hashtags', ['#data', '#science', '#datascience', '#awesome', '#yolo']), ('user', 'joelgrus')]\n"
     ]
    }
   ],
   "source": [
    "tweet = {\n",
    "    \"user\" : \"joelgrus\",\n",
    "    \"text\" : \"Data Science is Awesome\",\n",
    "    \"retweet_count\" : 100,\n",
    "    \"hashtags\" : [\"#data\", \"#science\", \"#datascience\", \"#awesome\", \"#yolo\"]\n",
    "}\n",
    "\n",
    "print tweet\n",
    "\n",
    "print len(tweet)\n",
    "\n",
    "print tweet.items()"
   ]
  },
  {
   "cell_type": "code",
   "execution_count": 26,
   "metadata": {},
   "outputs": [
    {
     "name": "stdout",
     "output_type": "stream",
     "text": [
      "{'mistaken': 1, 'discovered': 1, 'consists': 1, 'misunderstood;': 1, 'personal': 1, 'recreational': 1, 'to': 4, 'finally': 1, 'interested': 1, 'employee': 1, 'super-power': 2, 'has': 1, 'into': 2, 'lies:': 1, 'perpetrating': 1, 'not': 1, 'world': 1, 'one': 1, 'vast': 1, 'skills': 1, 'unauthorised': 1, 'where': 1, 'computer': 1, 'are': 1, 'hacker': 1, 'what': 2, 'satisfying': 1, 'records,': 1, 'attempting': 1, 'restricted': 1, 'ever': 1, 'across': 1, 'belief': 1, 'banking,': 1, 'This': 1, 'quite': 1, 'explore': 1, 'understanding': 1, 'come': 1, 'about': 2, 'of': 4, 'computers': 1, 'massive': 1, 'defeat': 1, 'or': 1, 'hackers': 1, 'inducing': 1, 'sense:': 1, 'modifying': 1, 'another': 1, 'tools': 1, 'there.': 1, 'files.': 1, 'system': 1, 'been': 2, 'their': 1, 'much': 1, 'Every': 1, 'more': 2, 'that': 1, 'taxation': 1, 'it': 1, 'producing': 1, 'than': 1, 'word': 1, 'developing': 1, 'aims': 1, 'sport.': 1, 'protected': 1, \"'getting\": 1, 'fun': 1, 'hacking': 1, 'and': 6, 'it.': 2, 'process': 1, 'is': 6, 'purposes': 1, 'an': 1, 'have': 2, 'in': 5, 'educational': 1, 'frauds,': 1, 'make': 1, 'majority': 1, 'book': 1, 'widely': 1, 'commencing': 1, \"sport's\": 1, 'inadvertently': 1, 'I': 1, 'cases,': 1, 'most': 1, 'tack': 1, 'uses': 1, 'The': 1, \"in'\": 1, 'the': 7, 'a': 3, 'clear': 1, 'It': 1, 'In': 1, 'entry': 1, 'Armageddon': 1}\n"
     ]
    }
   ],
   "source": [
    "document = \"This book uses the word in a more restricted sense: hacking is a recreational and educational sport. It consists of attempting to make unauthorised entry into computers and to explore what is there. The sport's aims and purposes have been widely misunderstood; most hackers are not interested in perpetrating massive frauds, modifying their personal banking, taxation and employee records, or inducing one world super-power into inadvertently commencing Armageddon in the mistaken belief that another super-power is about to tack it. Every hacker I have ever come across has been quite clear about where the fun lies: it is in developing an understanding of a system and finally producing the skills and tools to defeat it. In the vast majority of cases, the process of 'getting in' is much more satisfying than what is discovered in the protected computer files.\"\n",
    "\n",
    "word_counts = {}\n",
    "for word in document.split(' '):\n",
    "    if word in word_counts:\n",
    "        word_counts[word] += 1\n",
    "    else:\n",
    "        word_counts[word] = 1\n",
    "        \n",
    "print word_counts"
   ]
  },
  {
   "cell_type": "code",
   "execution_count": 28,
   "metadata": {},
   "outputs": [
    {
     "name": "stdout",
     "output_type": "stream",
     "text": [
      "{'mistaken': 1, 'discovered': 1, 'consists': 1, 'misunderstood;': 1, 'personal': 1, 'recreational': 1, 'to': 4, 'finally': 1, 'interested': 1, 'employee': 1, 'super-power': 2, 'has': 1, 'into': 2, 'lies:': 1, 'perpetrating': 1, 'not': 1, 'world': 1, 'one': 1, 'vast': 1, 'skills': 1, 'unauthorised': 1, 'where': 1, 'computer': 1, 'are': 1, 'hacker': 1, 'what': 2, 'satisfying': 1, 'records,': 1, 'attempting': 1, 'restricted': 1, 'ever': 1, 'across': 1, 'belief': 1, 'banking,': 1, 'This': 1, 'quite': 1, 'explore': 1, 'understanding': 1, 'come': 1, 'about': 2, 'of': 4, 'computers': 1, 'massive': 1, 'defeat': 1, 'or': 1, 'hackers': 1, 'inducing': 1, 'sense:': 1, 'modifying': 1, 'another': 1, 'tools': 1, 'there.': 1, 'files.': 1, 'system': 1, 'been': 2, 'their': 1, 'much': 1, 'Every': 1, 'more': 2, 'that': 1, 'taxation': 1, 'it': 1, 'producing': 1, 'than': 1, 'word': 1, 'developing': 1, 'aims': 1, 'sport.': 1, 'protected': 1, \"'getting\": 1, 'fun': 1, 'hacking': 1, 'and': 6, 'it.': 2, 'process': 1, 'is': 6, 'purposes': 1, 'an': 1, 'have': 2, 'in': 5, 'educational': 1, 'frauds,': 1, 'make': 1, 'majority': 1, 'book': 1, 'widely': 1, 'commencing': 1, \"sport's\": 1, 'inadvertently': 1, 'I': 1, 'cases,': 1, 'most': 1, 'tack': 1, 'uses': 1, 'The': 1, \"in'\": 1, 'the': 7, 'a': 3, 'clear': 1, 'It': 1, 'In': 1, 'entry': 1, 'Armageddon': 1}\n"
     ]
    }
   ],
   "source": [
    "word_counts = {}\n",
    "for word in document.split(' '):\n",
    "    previous_count = word_counts.get(word, 0)\n",
    "    word_counts[word] = previous_count + 1\n",
    "print word_counts"
   ]
  },
  {
   "cell_type": "code",
   "execution_count": 31,
   "metadata": {},
   "outputs": [
    {
     "name": "stdout",
     "output_type": "stream",
     "text": [
      "defaultdict(<type 'int'>, {'mistaken': 1, 'discovered': 1, 'consists': 1, 'misunderstood;': 1, 'personal': 1, 'recreational': 1, 'to': 4, 'finally': 1, 'interested': 1, 'employee': 1, 'super-power': 2, 'has': 1, 'into': 2, 'lies:': 1, 'perpetrating': 1, 'not': 1, 'world': 1, 'one': 1, 'vast': 1, 'skills': 1, 'unauthorised': 1, 'where': 1, 'computer': 1, 'are': 1, 'hacker': 1, 'what': 2, 'satisfying': 1, 'records,': 1, 'attempting': 1, 'restricted': 1, 'ever': 1, 'across': 1, 'belief': 1, 'banking,': 1, 'This': 1, 'quite': 1, 'explore': 1, 'understanding': 1, 'come': 1, 'about': 2, 'of': 4, 'computers': 1, 'massive': 1, 'defeat': 1, 'or': 1, 'hackers': 1, 'inducing': 1, 'sense:': 1, 'modifying': 1, 'another': 1, 'tools': 1, 'there.': 1, 'files.': 1, 'system': 1, 'been': 2, 'their': 1, 'much': 1, 'Every': 1, 'more': 2, 'that': 1, 'taxation': 1, 'it': 1, 'producing': 1, 'than': 1, 'word': 1, 'developing': 1, 'aims': 1, 'sport.': 1, 'protected': 1, \"'getting\": 1, 'fun': 1, 'hacking': 1, 'and': 6, 'it.': 2, 'process': 1, 'is': 6, 'purposes': 1, 'an': 1, 'have': 2, 'in': 5, 'educational': 1, 'frauds,': 1, 'make': 1, 'majority': 1, 'book': 1, 'widely': 1, 'commencing': 1, \"sport's\": 1, 'inadvertently': 1, 'I': 1, 'cases,': 1, 'most': 1, 'tack': 1, 'uses': 1, 'The': 1, \"in'\": 1, 'the': 7, 'a': 3, 'clear': 1, 'It': 1, 'In': 1, 'entry': 1, 'Armageddon': 1})\n"
     ]
    }
   ],
   "source": [
    "from collections import defaultdict\n",
    "word_counts = defaultdict(int) # int() produces 0\n",
    "for word in document.split(\" \"):\n",
    "    word_counts[word] += 1\n",
    "\n",
    "print word_counts"
   ]
  },
  {
   "cell_type": "code",
   "execution_count": 32,
   "metadata": {},
   "outputs": [
    {
     "name": "stdout",
     "output_type": "stream",
     "text": [
      "set([])\n",
      "set([1])\n",
      "set([1, 2])\n",
      "set([1, 2])\n",
      "2\n",
      "True\n",
      "False\n"
     ]
    }
   ],
   "source": [
    "s = set()\n",
    "print s\n",
    "\n",
    "s.add(1) # s is now { 1 }\n",
    "print s\n",
    "\n",
    "s.add(2) # s is now { 1, 2 }\n",
    "print s\n",
    "\n",
    "s.add(2) # s is still { 1, 2 }\n",
    "print s\n",
    "\n",
    "x = len(s) # equals 2\n",
    "print x\n",
    "\n",
    "y = 2 in s # equals True\n",
    "print y\n",
    "\n",
    "z = 3 in s # equals False\n",
    "print z"
   ]
  },
  {
   "cell_type": "code",
   "execution_count": 34,
   "metadata": {},
   "outputs": [
    {
     "name": "stdout",
     "output_type": "stream",
     "text": [
      "6\n",
      "set([1, 2, 3])\n",
      "3\n",
      "[1, 2, 3]\n"
     ]
    }
   ],
   "source": [
    "item_list = [1, 2, 3, 1, 2, 3]\n",
    "num_items = len(item_list) # 6\n",
    "print num_items\n",
    "\n",
    "item_set = set(item_list) # {1, 2, 3}\n",
    "print item_set\n",
    "\n",
    "num_distinct_items = len(item_set) # 3\n",
    "print num_distinct_items\n",
    "\n",
    "distinct_item_list = list(item_set) # [1, 2, 3]\n",
    "print distinct_item_list"
   ]
  },
  {
   "cell_type": "code",
   "execution_count": 35,
   "metadata": {},
   "outputs": [
    {
     "name": "stdout",
     "output_type": "stream",
     "text": [
      "when all else fails use else (if you want to)\n"
     ]
    }
   ],
   "source": [
    "if 1 > 2:\n",
    "    message = \"if only 1 were greater than two…\"\n",
    "elif 1 > 3:\n",
    "    message = \"elif stands for 'else if'\"\n",
    "else:\n",
    "    message = \"when all else fails use else (if you want to)\"\n",
    "    \n",
    "print message"
   ]
  },
  {
   "cell_type": "code",
   "execution_count": 37,
   "metadata": {},
   "outputs": [
    {
     "name": "stdout",
     "output_type": "stream",
     "text": [
      "odd\n"
     ]
    }
   ],
   "source": [
    "x = 7\n",
    "parity = \"even\" if x % 2 == 0 else \"odd\"\n",
    "print parity"
   ]
  },
  {
   "cell_type": "code",
   "execution_count": 38,
   "metadata": {},
   "outputs": [
    {
     "name": "stdout",
     "output_type": "stream",
     "text": [
      "0 is less than 10\n",
      "1 is less than 10\n",
      "2 is less than 10\n",
      "3 is less than 10\n",
      "4 is less than 10\n",
      "5 is less than 10\n",
      "6 is less than 10\n",
      "7 is less than 10\n",
      "8 is less than 10\n",
      "9 is less than 10\n"
     ]
    }
   ],
   "source": [
    "x = 0\n",
    "while x < 10:\n",
    "    print x, \"is less than 10\"\n",
    "    x += 1\n"
   ]
  },
  {
   "cell_type": "code",
   "execution_count": 39,
   "metadata": {},
   "outputs": [
    {
     "name": "stdout",
     "output_type": "stream",
     "text": [
      "0 is less than 10\n",
      "1 is less than 10\n",
      "2 is less than 10\n",
      "3 is less than 10\n",
      "4 is less than 10\n",
      "5 is less than 10\n",
      "6 is less than 10\n",
      "7 is less than 10\n",
      "8 is less than 10\n",
      "9 is less than 10\n"
     ]
    }
   ],
   "source": [
    "for x in range(10):\n",
    "    print x, \"is less than 10\""
   ]
  },
  {
   "cell_type": "code",
   "execution_count": 40,
   "metadata": {},
   "outputs": [
    {
     "name": "stdout",
     "output_type": "stream",
     "text": [
      "0\n",
      "1\n",
      "2\n",
      "4\n"
     ]
    }
   ],
   "source": [
    "for x in range(10):\n",
    "    if x == 3:\n",
    "        continue # go immediately to the next iteration\n",
    "    if x == 5:\n",
    "        break # quit the loop entirely\n",
    "    print x"
   ]
  },
  {
   "cell_type": "code",
   "execution_count": 41,
   "metadata": {},
   "outputs": [
    {
     "name": "stdout",
     "output_type": "stream",
     "text": [
      "[4, 1, 2, 3]\n",
      "[1, 2, 3, 4]\n",
      "[1, 2, 3, 4]\n"
     ]
    }
   ],
   "source": [
    "x = [4,1,2,3]\n",
    "print x\n",
    "\n",
    "y = sorted(x) # is [1,2,3,4], x is unchanged\n",
    "print y\n",
    "\n",
    "x.sort() # now x is [1,2,3,4]\n",
    "print x"
   ]
  },
  {
   "cell_type": "code",
   "execution_count": 42,
   "metadata": {},
   "outputs": [
    {
     "name": "stdout",
     "output_type": "stream",
     "text": [
      "[-4, 3, -2, 1]\n"
     ]
    }
   ],
   "source": [
    "# sort the list by absolute value from largest to smallest\n",
    "x = sorted([-4,1,-2,3], key=abs, reverse=True) # is [-4,3,-2,1]\n",
    "print x"
   ]
  },
  {
   "cell_type": "code",
   "execution_count": 44,
   "metadata": {},
   "outputs": [
    {
     "name": "stdout",
     "output_type": "stream",
     "text": [
      "[('the', 7), ('and', 6), ('is', 6), ('in', 5), ('to', 4), ('of', 4), ('a', 3), ('super-power', 2), ('into', 2), ('what', 2), ('about', 2), ('been', 2), ('more', 2), ('it.', 2), ('have', 2), ('mistaken', 1), ('discovered', 1), ('consists', 1), ('misunderstood;', 1), ('personal', 1), ('recreational', 1), ('finally', 1), ('interested', 1), ('employee', 1), ('has', 1), ('lies:', 1), ('perpetrating', 1), ('not', 1), ('world', 1), ('one', 1), ('vast', 1), ('skills', 1), ('unauthorised', 1), ('where', 1), ('computer', 1), ('are', 1), ('hacker', 1), ('satisfying', 1), ('records,', 1), ('attempting', 1), ('restricted', 1), ('ever', 1), ('across', 1), ('belief', 1), ('banking,', 1), ('This', 1), ('quite', 1), ('explore', 1), ('understanding', 1), ('come', 1), ('computers', 1), ('massive', 1), ('defeat', 1), ('or', 1), ('hackers', 1), ('inducing', 1), ('sense:', 1), ('modifying', 1), ('another', 1), ('tools', 1), ('there.', 1), ('files.', 1), ('system', 1), ('their', 1), ('much', 1), ('Every', 1), ('that', 1), ('taxation', 1), ('it', 1), ('producing', 1), ('than', 1), ('word', 1), ('developing', 1), ('aims', 1), ('sport.', 1), ('protected', 1), (\"'getting\", 1), ('fun', 1), ('hacking', 1), ('process', 1), ('purposes', 1), ('an', 1), ('educational', 1), ('frauds,', 1), ('make', 1), ('majority', 1), ('book', 1), ('widely', 1), ('commencing', 1), (\"sport's\", 1), ('inadvertently', 1), ('I', 1), ('cases,', 1), ('most', 1), ('tack', 1), ('uses', 1), ('The', 1), (\"in'\", 1), ('clear', 1), ('It', 1), ('In', 1), ('entry', 1), ('Armageddon', 1)]\n"
     ]
    }
   ],
   "source": [
    "wc = sorted(word_counts.items(),\n",
    "                key=lambda (word, count): count,\n",
    "                reverse=True)\n",
    "\n",
    "print wc"
   ]
  },
  {
   "cell_type": "code",
   "execution_count": 45,
   "metadata": {},
   "outputs": [
    {
     "name": "stdout",
     "output_type": "stream",
     "text": [
      "[0, 2, 4]\n",
      "[0, 1, 4, 9, 16]\n",
      "[0, 4, 16]\n"
     ]
    }
   ],
   "source": [
    "even_numbers = [x for x in range(5) if x % 2 == 0] # [0, 2, 4]\n",
    "print even_numbers\n",
    "\n",
    "squares = [x * x for x in range(5)] # [0, 1, 4, 9, 16]\n",
    "print squares\n",
    "\n",
    "even_squares = [x * x for x in even_numbers] # [0, 4, 16]\n",
    "print even_squares"
   ]
  },
  {
   "cell_type": "code",
   "execution_count": null,
   "metadata": {},
   "outputs": [],
   "source": []
  }
 ],
 "metadata": {
  "kernelspec": {
   "display_name": "Python 2",
   "language": "python",
   "name": "python2"
  },
  "language_info": {
   "codemirror_mode": {
    "name": "ipython",
    "version": 2
   },
   "file_extension": ".py",
   "mimetype": "text/x-python",
   "name": "python",
   "nbconvert_exporter": "python",
   "pygments_lexer": "ipython2",
   "version": "2.7.14"
  }
 },
 "nbformat": 4,
 "nbformat_minor": 2
}
