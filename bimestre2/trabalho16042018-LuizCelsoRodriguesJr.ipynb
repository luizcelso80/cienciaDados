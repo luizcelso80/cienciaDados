{
 "cells": [
  {
   "cell_type": "code",
   "execution_count": null,
   "metadata": {},
   "outputs": [],
   "source": [
    "from random import randint as rand\n",
    "from collections import Counter\n",
    "import numpy as np\n",
    "import matplotlib.pyplot as plt\n",
    "from __future__ import division\n",
    "import math\n",
    "\n",
    "data = np.genfromtxt('C:\\\\Users\\\\Zatara\\\\anaconda\\\\seeds_dataset.txt', delimiter='', usecols=(0,1,2,3,4,5,6))\n",
    "\n",
    "def get_column(A, j):\n",
    "    return [A_i[j] # jth element of row A_i\n",
    "            for A_i in A] # for each row A_i\n",
    "\n",
    "def media(x):\n",
    "    return sum(x) / len(x)\n",
    "\n",
    "def mode(x):\n",
    "    \"\"\"returns a list, might be more than one mode\"\"\"\n",
    "    counts = Counter(x)\n",
    "    max_count = max(counts.values())\n",
    "    return [x_i for x_i, count in counts.iteritems()\n",
    "                if count == max_count]\n",
    "\n",
    "def mediana(v):\n",
    "    \"\"\"finds the 'middle-most' value of v\"\"\"\n",
    "    n = len(v)\n",
    "    sorted_v = sorted(v)\n",
    "    midpoint = n // 2\n",
    "    if n % 2 == 1:\n",
    "        # if odd, return the middle value\n",
    "        return sorted_v[midpoint]\n",
    "    else:\n",
    "        # if even, return the average of the middle values\n",
    "        lo = midpoint - 1\n",
    "        hi = midpoint\n",
    "        return (sorted_v[lo] + sorted_v[hi]) / 2\n",
    "    \n",
    "def de_mean(x):\n",
    "    \"\"\"translate x by subtracting its mean (so the result has mean 0)\"\"\"\n",
    "    x_bar = media(x)\n",
    "    return [x_i - x_bar for x_i in x]\n",
    "\n",
    "\n",
    "def sum_of_squares(x):\n",
    "    return sum([x_i * x_i for x_i in x])\n",
    "\n",
    "def variance(x):\n",
    "    \"\"\"assumes x has at least two elements\"\"\"\n",
    "    n = len(x)\n",
    "    deviations = de_mean(x)\n",
    "    return sum_of_squares(deviations) / (n -1)\n",
    "\n",
    "def standard_deviation(x):\n",
    "    return math.sqrt(variance(x))\n",
    "\n",
    "def dot(v, w):\n",
    "    return sum(vi * wi for vi, wi in zip(v, w))\n",
    "\n",
    "def covariance(x, y):\n",
    "    n = len(x)\n",
    "    return dot(de_mean(x), de_mean(y)) / (n - 1)\n",
    "\n",
    "def correlation(x, y):\n",
    "    stdev_x = standard_deviation(x)\n",
    "    stdev_y = standard_deviation(y)\n",
    "    if stdev_x > 0 and stdev_y > 0:\n",
    "        return covariance(x, y) / stdev_x / stdev_y\n",
    "    else:\n",
    "        return 0 # if no variation, correlation is zero"
   ]
  },
  {
   "cell_type": "markdown",
   "metadata": {},
   "source": [
    "Exercicio 01"
   ]
  },
  {
   "cell_type": "code",
   "execution_count": 2,
   "metadata": {},
   "outputs": [
    {
     "name": "stdout",
     "output_type": "stream",
     "text": [
      "Moda comprimento Kama:  [5.395]\n",
      "Mediana comprimento Kama:  5.534000000000001\n",
      "Moda largura Kama:  [3.158, 3.201, 3.333, 3.113, 3.156, 3.199, 3.377, 3.312, 3.026]\n",
      "Mediana largura Kama:  3.2435\n",
      "####################################################\n",
      "Moda comprimento Rosa:  [6.285, 6.037, 5.979]\n",
      "Mediana comprimento Rosa:  6.1485\n",
      "Moda largura Rosa:  [3.755, 3.857, 3.594, 3.769]\n",
      "Mediana largura Rosa:  3.6935000000000002\n",
      "####################################################\n",
      "Moda comprimento Canadian:  [5.236]\n",
      "Mediana comprimento Canadian:  5.224\n",
      "Moda largura Canadian:  [2.675, 2.81, 2.821, 2.911, 2.763, 2.967]\n",
      "Mediana largura Canadian:  2.8345000000000002\n"
     ]
    }
   ],
   "source": [
    "\n",
    "print \"Moda comprimento Kama: \", mode(data[0:70,3])\n",
    "print \"Mediana comprimento Kama: \",mediana(data[0:70,3])\n",
    "print \"Moda largura Kama: \", mode(data[0:70,4])\n",
    "print \"Mediana largura Kama: \",mediana(data[0:70,4])\n",
    "print \"####################################################\"\n",
    "print \"Moda comprimento Rosa: \", mode(data[70:140,3])\n",
    "print \"Mediana comprimento Rosa: \",mediana(data[70:140,3])\n",
    "print \"Moda largura Rosa: \", mode(data[70:140,4])\n",
    "print \"Mediana largura Rosa: \",mediana(data[70:140,4])\n",
    "print \"####################################################\"\n",
    "print \"Moda comprimento Canadian: \", mode(data[140:210,3])\n",
    "print \"Mediana comprimento Canadian: \",mediana(data[140:210,3])\n",
    "print \"Moda largura Canadian: \", mode(data[140:210,4])\n",
    "print \"Mediana largura Canadian: \",mediana(data[140:210,4])\n",
    " "
   ]
  },
  {
   "cell_type": "markdown",
   "metadata": {},
   "source": [
    "Exercicio 02\n",
    "\n",
    "Quanto maior o desvio padrao , mais heterogenea sera a amostra. Da mesma forma quanto menor for o desvio padrao , mais homogenea sera a amostra."
   ]
  },
  {
   "cell_type": "code",
   "execution_count": 3,
   "metadata": {},
   "outputs": [
    {
     "name": "stdout",
     "output_type": "stream",
     "text": [
      "Desvio padrao comprimento Kama:  0.231508029454\n",
      "Desvio padrao comprimento Rosa:  0.268191148112\n",
      "Desvio padrao comprimento Canadian:  0.138015200051\n"
     ]
    }
   ],
   "source": [
    "print \"Desvio padrao comprimento Kama: \", standard_deviation(data[0:70,3])\n",
    "\n",
    "print \"Desvio padrao comprimento Rosa: \", standard_deviation(data[70:140,3])\n",
    "\n",
    "print \"Desvio padrao comprimento Canadian: \", standard_deviation(data[140:210,3])"
   ]
  },
  {
   "cell_type": "markdown",
   "metadata": {},
   "source": [
    "Exercicio 03\n",
    "\n",
    "Quanto maior o desvio padrao , mais heterogenea sera a amostra. Da mesma forma quanto menor for o desvio padrao , mais homogenea sera a amostra."
   ]
  },
  {
   "cell_type": "code",
   "execution_count": 4,
   "metadata": {},
   "outputs": [
    {
     "name": "stdout",
     "output_type": "stream",
     "text": [
      "Desvio padrao largura Kama:  0.177615540793\n",
      "Desvio padrao largura Rosa:  0.185539127703\n",
      "Desvio padrao largura Canadian:  0.147516068536\n"
     ]
    }
   ],
   "source": [
    "print \"Desvio padrao largura Kama: \", standard_deviation(data[0:70,4])\n",
    "\n",
    "print \"Desvio padrao largura Rosa: \", standard_deviation(data[70:140,4])\n",
    "\n",
    "print \"Desvio padrao largura Canadian: \", standard_deviation(data[140:210,4])"
   ]
  },
  {
   "cell_type": "markdown",
   "metadata": {},
   "source": [
    "Exercicio 04\n",
    "A correlacao varia de -1 a 1. Quanto mais se aproximar de zero , menor é a correlacao. Valore proximos de -1 indicam uma correlacao inversamente proporcional(quanto maior um valor o outro sera menor). Valore proximos de 1 indicam uma correlacao diretamente proporcional(quanto maior um valor o outro sera maior)."
   ]
  },
  {
   "cell_type": "code",
   "execution_count": 5,
   "metadata": {},
   "outputs": [
    {
     "name": "stdout",
     "output_type": "stream",
     "text": [
      "Correlacao comprimento e largura Kama:  0.5505605273038401\n",
      "Correlacao comprimento e largura Rosa:  0.5130853843822178\n",
      "Correlacao comprimento e largura Canadian:  0.08206079539342506\n"
     ]
    }
   ],
   "source": [
    "print \"Correlacao comprimento e largura Kama: \", correlation(data[0:70,3],data[0:70,4])\n",
    "\n",
    "print \"Correlacao comprimento e largura Rosa: \", correlation(data[70:140,3],data[70:140,4])\n",
    "\n",
    "print \"Correlacao comprimento e largura Canadian: \", correlation(data[140:210,3],data[140:210,4])"
   ]
  },
  {
   "cell_type": "markdown",
   "metadata": {},
   "source": [
    "Exercicio 05"
   ]
  },
  {
   "cell_type": "code",
   "execution_count": 6,
   "metadata": {},
   "outputs": [
    {
     "data": {
      "image/png": "[encoded data removed]",
      "text/plain": [
       "<matplotlib.figure.Figure at 0x8c8ae48>"
      ]
     },
     "metadata": {},
     "output_type": "display_data"
    }
   ],
   "source": [
    "CompLargs = [\"K-Comp\",\"K-Larg\",\"R-Comp\",\"R-Larg\",\"C-Comp\",\"C-Larg\"]\n",
    "\n",
    "kama=[np.mean(get_column(data[0:70], i)) for i in range(3,5)]\n",
    "rosa=[np.mean(get_column(data[70:140], i)) for i in range(3,5)]\n",
    "canadian=[np.mean(get_column(data[140:210], i)) for i in range(3,5)]\n",
    "\n",
    "medidas=kama+rosa+canadian\n",
    "\n",
    "mediaComp = media(data[0:210,3])\n",
    "mediaLarg = media(data[0:210,4])\n",
    "\n",
    "xs = [i + 0.1 for i, _ in enumerate(CompLargs)]\n",
    "\n",
    "plt.bar(xs, medidas)\n",
    "plt.ylabel(\"Medidas sementes\")\n",
    "plt.title(\"Sementes\") \n",
    "plt.xticks([i + 0.1 for i, _ in enumerate(CompLargs)], CompLargs)\n",
    "plt.axhline(mediaComp, color=\"red\") #Gera a linha\n",
    "plt.text(6, mediaComp, 'Comprimento medio geral', va='center', ha=\"left\") #texto\n",
    "plt.axhline(mediaLarg, color=\"green\") #Gera a linha\n",
    "plt.text(6, mediaLarg, 'Largura media geral', va='center', ha=\"left\") #texto\n",
    "plt.show()"
   ]
  },
  {
   "cell_type": "markdown",
   "metadata": {},
   "source": [
    "Exercicio 06"
   ]
  },
  {
   "cell_type": "code",
   "execution_count": 7,
   "metadata": {},
   "outputs": [
    {
     "data": {
      "image/png": "[encoded data removed]",
      "text/plain": [
       "<matplotlib.figure.Figure at 0x7640eb8>"
      ]
     },
     "metadata": {},
     "output_type": "display_data"
    }
   ],
   "source": [
    "plt.scatter(data[0:70,0],data[0:70,1], c='red',label='Kama')\n",
    "plt.scatter(data[70:140,0],data[70:140,1], c='blue', label='Rosa')\n",
    "plt.scatter(data[140:210,0],data[140:210,1], c='green', label='Canadian')\n",
    "plt.title(\"Area x Perimetro\")\n",
    "plt.xlabel(\"Area\")\n",
    "plt.ylabel(\"Perimetro\")\n",
    "plt.legend(loc=0)\n",
    "plt.show()"
   ]
  },
  {
   "cell_type": "code",
   "execution_count": null,
   "metadata": {},
   "outputs": [],
   "source": []
  }
 ],
 "metadata": {
  "kernelspec": {
   "display_name": "Python 2",
   "language": "python",
   "name": "python2"
  },
  "language_info": {
   "codemirror_mode": {
    "name": "ipython",
    "version": 2
   },
   "file_extension": ".py",
   "mimetype": "text/x-python",
   "name": "python",
   "nbconvert_exporter": "python",
   "pygments_lexer": "ipython2",
   "version": "2.7.14"
  }
 },
 "nbformat": 4,
 "nbformat_minor": 2
}
