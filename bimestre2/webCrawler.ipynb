{
 "cells": [
  {
   "cell_type": "code",
   "execution_count": 27,
   "metadata": {},
   "outputs": [],
   "source": [
    "import requests\n",
    "from bs4 import BeautifulSoup\n",
    "\n",
    "\n",
    "def trade_spider(max_pages):\n",
    "    page = 1\n",
    "    while page <= max_pages:\n",
    "        url = 'https://lista.mercadolivre.com.br/beleza-cuidado-pessoal/produtos-cabelo/aneethun_Desde_' + str(page)\n",
    "        \n",
    "        source_cod = requests.get(url)\n",
    "        plain_text = source_cod.text\n",
    "        \n",
    "        soup = BeautifulSoup(plain_text, \"html5lib\")\n",
    "        for link in soup.findAll('a', {'class': 'item-link item__js-link'}):\n",
    "            href = link.get('href')\n",
    "        \n",
    "            nome = link.string\n",
    "            \n",
    "            cada_item(href)\n",
    "        page += 48\n",
    "\n",
    "\n",
    "def cada_item(item_url):\n",
    "    source_cod = requests.get(item_url)\n",
    "    plain_text = source_cod.text\n",
    "    soup = BeautifulSoup(plain_text, \"html5lib\")\n",
    "    for link in soup.findAll('a', {'class': 'reputation-view-more'}):\n",
    "        href = link.get('href')\n",
    "        print href\n",
    "        cidade(href)\n",
    "\n",
    "\n",
    "def cidade(cidade_url):\n",
    "    source_cod = requests.get(cidade_url)\n",
    "    plain_text = source_cod.text\n",
    "    soup = BeautifulSoup(plain_text, \"html5lib\")\n",
    "    for link in soup.findAll('p',{'class': 'location__description'}):\n",
    "        cidade = link.text\n",
    "        print cidade\n",
    "        \n",
    "def pegarTag(url, tag, id, selector):\n",
    "    for i in range(1:15):\n",
    "        \n",
    "        dom = requests.get(url)\n",
    "        plain_text = dom.text\n",
    "        soup = BeautifulSoup(plain_text, \"html5lib\")\n",
    "        for tag in soup.findAll(tag, {selector: id}):\n",
    "            if tag.has_attr('src'):\n",
    "                print tag.get('src')\n",
    "            else:\n",
    "            print 'nao tem'"
   ]
  },
  {
   "cell_type": "code",
   "execution_count": 28,
   "metadata": {
    "scrolled": true
   },
   "outputs": [
    {
     "name": "stdout",
     "output_type": "stream",
     "text": [
      "http://putinho.net/wp-content/uploads/2018/06/BAO-TimCampbell-JasonClark-600x330.jpg\n",
      "http://putinho.net/wp-content/uploads/2018/06/ST-CalebGray-AngelRivera-600x330.jpg\n",
      "http://putinho.net/wp-content/uploads/2018/06/YP-CaseNo-1805033-24.jpg\n",
      "http://putinho.net/wp-content/uploads/2018/06/OnlyFans-GriffinBarrows-GabrielCross-600x330.jpg\n",
      "http://putinho.net/wp-content/uploads/2018/06/PontoGay-EnterrandoasBolas-600x330.jpg\n",
      "http://putinho.net/wp-content/uploads/2018/06/YP-CaseNo-1805033-31-600x330.jpg\n",
      "http://putinho.net/wp-content/uploads/2018/06/MEN-DanteColle-JeremySpreadums.jpg\n",
      "http://putinho.net/wp-content/uploads/2018/06/FMD-LoveatHome-Chapter1-600x330.jpg\n",
      "http://putinho.net/wp-content/uploads/2018/06/STX-CarlChater-JakeStark-NavonRaffi-600x330.jpg\n",
      "http://putinho.net/wp-content/uploads/2018/06/TT-FranciscoSants-ChuchoMartin-600x330.jpg\n",
      "http://putinho.net/wp-content/uploads/2018/06/HH-CadeMaddox-RemyCruze-600x330.jpg\n",
      "http://putinho.net/wp-content/uploads/2018/06/BAO-KrisEvans-RaphaelNyon.jpg\n"
     ]
    }
   ],
   "source": []
  },
  {
   "cell_type": "code",
   "execution_count": null,
   "metadata": {},
   "outputs": [],
   "source": []
  }
 ],
 "metadata": {
  "kernelspec": {
   "display_name": "Python 2",
   "language": "python",
   "name": "python2"
  },
  "language_info": {
   "codemirror_mode": {
    "name": "ipython",
    "version": 2
   },
   "file_extension": ".py",
   "mimetype": "text/x-python",
   "name": "python",
   "nbconvert_exporter": "python",
   "pygments_lexer": "ipython2",
   "version": "2.7.14"
  }
 },
 "nbformat": 4,
 "nbformat_minor": 2
}
