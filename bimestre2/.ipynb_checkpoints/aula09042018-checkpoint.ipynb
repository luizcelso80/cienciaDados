{
 "cells": [
  {
   "cell_type": "code",
   "execution_count": 2,
   "metadata": {},
   "outputs": [],
   "source": [
    "from collections import Counter\n",
    "from matplotlib import pyplot as plt\n",
    "from __future__ import division\n",
    "import math\n",
    "import random"
   ]
  },
  {
   "cell_type": "code",
   "execution_count": 25,
   "metadata": {},
   "outputs": [
    {
     "name": "stdout",
     "output_type": "stream",
     "text": [
      "54\n",
      "54\n"
     ]
    }
   ],
   "source": [
    "num_friends = [100, 49, 41, 40, 25,\n",
    "                1,1,1,1,1,2,2,3,2,2,3,3,3,4,4,4,\n",
    "               5,5,5,6,6,6,6,7,7,7,7,8,8,8,8,\n",
    "               9,9,10,10,11,11,12,12,12,13,13,13,\n",
    "               15,15,15,18,20,20\n",
    "              ]\n",
    "\n",
    "daily_min = [\n",
    "    65,30,35,56,32,65,78,45,9,8,7,5,12,10,11,13,14,15,16,\n",
    "    18,19,20,25,24,26,27,29,18,17,15,16,20,21,23,22,25,\n",
    "    30,12,15,17,5,6,12,16,22,25,35,12,9,8,12,32,31,56\n",
    "]\n",
    "\n",
    "print len(num_friends)\n",
    "print len(daily_min)\n"
   ]
  },
  {
   "cell_type": "markdown",
   "metadata": {},
   "source": [
    "outlier - um dado fora do padrao"
   ]
  },
  {
   "cell_type": "code",
   "execution_count": 12,
   "metadata": {},
   "outputs": [
    {
     "data": {
      "image/png": "[encoded data removed]",
      "text/plain": [
       "<matplotlib.figure.Figure at 0xab69e80>"
      ]
     },
     "metadata": {},
     "output_type": "display_data"
    }
   ],
   "source": [
    "friend_counts = Counter(num_friends)\n",
    "xs = range(101) # largest value is 100\n",
    "ys = [friend_counts[x] for x in xs] # height is just # of friends\n",
    "plt.bar(xs, ys)\n",
    "plt.axis([0, 101, 0, 8])\n",
    "plt.title(\"Histogram of Friend Counts\")\n",
    "plt.xlabel(\"# of friends\")\n",
    "plt.ylabel(\"# of people\")\n",
    "plt.show()"
   ]
  },
  {
   "cell_type": "code",
   "execution_count": 15,
   "metadata": {},
   "outputs": [
    {
     "name": "stdout",
     "output_type": "stream",
     "text": [
      "\n"
     ]
    }
   ],
   "source": [
    "num_points = len(num_friends)\n",
    "largest_value = max(num_friends) # 100\n",
    "smallest_value = min(num_friends)\n",
    "\n",
    "sorted_values = sorted(num_friends)\n",
    "smallest_value2 = sorted_values[0] # 1\n",
    "second_smallest_value = sorted_values[9] # 1\n",
    "second_largest_value = sorted_values[-2] # 49"
   ]
  },
  {
   "cell_type": "code",
   "execution_count": 16,
   "metadata": {},
   "outputs": [
    {
     "name": "stdout",
     "output_type": "stream",
     "text": [
      "Tamanho base 54\n",
      "Maior amigos 100\n",
      "Menor amigos 1\n",
      "#################\n",
      "Menor 1\n",
      "Decima menor 2\n",
      "Segunda maior 49\n"
     ]
    }
   ],
   "source": [
    "print \"Tamanho base\",num_points\n",
    "print \"Maior amigos\",largest_value\n",
    "print \"Menor amigos\",smallest_value\n",
    "\n",
    "print \"#################\"\n",
    "\n",
    "print \"Menor\",smallest_value2\n",
    "print \"Decima menor\",second_smallest_value\n",
    "print \"Segunda maior\",second_largest_value"
   ]
  },
  {
   "cell_type": "code",
   "execution_count": 18,
   "metadata": {},
   "outputs": [
    {
     "name": "stdout",
     "output_type": "stream",
     "text": [
      "Media Amigos 11.6296296296\n"
     ]
    }
   ],
   "source": [
    "def media(x):\n",
    "    return sum(x) / len(x)\n",
    "\n",
    "print \"Media Amigos\",media(num_friends)"
   ]
  },
  {
   "cell_type": "code",
   "execution_count": 20,
   "metadata": {},
   "outputs": [
    {
     "name": "stdout",
     "output_type": "stream",
     "text": [
      "Mediana Amigos 7.5\n"
     ]
    }
   ],
   "source": [
    "def mediana(v):\n",
    "    \"\"\"finds the 'middle-most' value of v\"\"\"\n",
    "    n = len(v)\n",
    "    sorted_v = sorted(v)\n",
    "    midpoint = n // 2\n",
    "    if n % 2 == 1:\n",
    "        # if odd, return the middle value\n",
    "        return sorted_v[midpoint]\n",
    "    else:\n",
    "        # if even, return the average of the middle values\n",
    "        lo = midpoint - 1\n",
    "        hi = midpoint\n",
    "        return (sorted_v[lo] + sorted_v[hi]) / 2\n",
    "    \n",
    "    \n",
    "print \"Mediana Amigos\",mediana(num_friends)"
   ]
  },
  {
   "cell_type": "code",
   "execution_count": 23,
   "metadata": {},
   "outputs": [
    {
     "name": "stdout",
     "output_type": "stream",
     "text": [
      "2\n",
      "4\n",
      "13\n",
      "20\n"
     ]
    }
   ],
   "source": [
    "def quantile(x, p):\n",
    "    \"\"\"returns the pth-percentile value in x\"\"\"\n",
    "    p_index = int(p * len(x))\n",
    "    return sorted(x)[p_index]\n",
    "\n",
    "print quantile(num_friends, 0.10) # 1\n",
    "print quantile(num_friends, 0.25) # 3\n",
    "print quantile(num_friends, 0.75) # 9\n",
    "print quantile(num_friends, 0.90) # 13"
   ]
  },
  {
   "cell_type": "code",
   "execution_count": 26,
   "metadata": {},
   "outputs": [
    {
     "name": "stdout",
     "output_type": "stream",
     "text": [
      "[1]\n"
     ]
    }
   ],
   "source": [
    "def mode(x):\n",
    "    \"\"\"returns a list, might be more than one mode\"\"\"\n",
    "    counts = Counter(x)\n",
    "    max_count = max(counts.values())\n",
    "    return [x_i for x_i, count in counts.iteritems()\n",
    "                if count == max_count]\n",
    "\n",
    "print mode(num_friends)"
   ]
  },
  {
   "cell_type": "code",
   "execution_count": 27,
   "metadata": {},
   "outputs": [
    {
     "name": "stdout",
     "output_type": "stream",
     "text": [
      "99\n"
     ]
    }
   ],
   "source": [
    "def data_range(x):\n",
    "    return max(x) - min(x)\n",
    "\n",
    "print data_range(num_friends) # 99"
   ]
  },
  {
   "cell_type": "code",
   "execution_count": 34,
   "metadata": {},
   "outputs": [
    {
     "data": {
      "text/plain": [
       "247.13801537386445"
      ]
     },
     "execution_count": 34,
     "metadata": {},
     "output_type": "execute_result"
    }
   ],
   "source": [
    "def de_mean(x):\n",
    "    \"\"\"translate x by subtracting its mean (so the result has mean 0)\"\"\"\n",
    "    x_bar = media(x)\n",
    "    return [x_i - x_bar for x_i in x]\n",
    "\n",
    "def sum_of_squares(x):\n",
    "    return sum([x_i * x_i for x_i in x])\n",
    "\n",
    "def variance(x):\n",
    "    \"\"\"assumes x has at least two elements\"\"\"\n",
    "    n = len(x)\n",
    "    deviations = de_mean(x)\n",
    "    return sum_of_squares(deviations) / (n -1)\n",
    "\n",
    "\n",
    "variance(num_friends) # 81.54"
   ]
  },
  {
   "cell_type": "code",
   "execution_count": 32,
   "metadata": {},
   "outputs": [
    {
     "data": {
      "text/plain": [
       "15.720623886279592"
      ]
     },
     "execution_count": 32,
     "metadata": {},
     "output_type": "execute_result"
    }
   ],
   "source": [
    "def standard_deviation(x):\n",
    "    return math.sqrt(variance(x))\n",
    "\n",
    "standard_deviation(num_friends) # 9.03"
   ]
  },
  {
   "cell_type": "code",
   "execution_count": 39,
   "metadata": {},
   "outputs": [
    {
     "name": "stdout",
     "output_type": "stream",
     "text": [
      "Variancia 4.33333333333\n",
      "Desvio padrao 2.08166599947\n",
      "###################\n",
      "Variancia 3.66666666667\n",
      "Desvio padrao 1.91485421551\n",
      "###################\n",
      "Variancia 5.66666666667\n",
      "Desvio padrao 2.38047614285\n",
      "###################\n",
      "Variancia 6.91666666667\n",
      "Desvio padrao 2.62995563968\n",
      "###################\n"
     ]
    }
   ],
   "source": [
    "notas = [\n",
    "    [5,8,10,7],\n",
    "    [8,6,6,10],\n",
    "    [10,9,5,10],\n",
    "    [8,10,9,4]\n",
    "]\n",
    "\n",
    "\n",
    "\n",
    "for nota in notas:\n",
    "    print \"Variancia\",variance(nota)\n",
    "    print \"Desvio padrao\",standard_deviation(nota)\n",
    "    print \"###################\""
   ]
  },
  {
   "cell_type": "code",
   "execution_count": 41,
   "metadata": {},
   "outputs": [
    {
     "data": {
      "text/plain": [
       "3.337526205450734"
      ]
     },
     "execution_count": 41,
     "metadata": {},
     "output_type": "execute_result"
    }
   ],
   "source": [
    "def dot(v, w):\n",
    "    return sum(vi * wi for vi, wi in zip(v, w))\n",
    "\n",
    "def covariance(x, y):\n",
    "    n = len(x)\n",
    "    return dot(de_mean(x), de_mean(y)) / (n - 1)\n",
    "\n",
    "\n",
    "covariance(num_friends, daily_min)"
   ]
  },
  {
   "cell_type": "code",
   "execution_count": 42,
   "metadata": {},
   "outputs": [
    {
     "data": {
      "text/plain": [
       "0.013999188616431221"
      ]
     },
     "execution_count": 42,
     "metadata": {},
     "output_type": "execute_result"
    }
   ],
   "source": [
    "def correlation(x, y):\n",
    "    stdev_x = standard_deviation(x)\n",
    "    stdev_y = standard_deviation(y)\n",
    "    if stdev_x > 0 and stdev_y > 0:\n",
    "        return covariance(x, y) / stdev_x / stdev_y\n",
    "    else:\n",
    "        return 0 # if no variation, correlation is zero\n",
    "    \n",
    "    \n",
    "correlation(num_friends, daily_min) # 0.25"
   ]
  },
  {
   "cell_type": "code",
   "execution_count": null,
   "metadata": {},
   "outputs": [],
   "source": []
  }
 ],
 "metadata": {
  "kernelspec": {
   "display_name": "Python 2",
   "language": "python",
   "name": "python2"
  },
  "language_info": {
   "codemirror_mode": {
    "name": "ipython",
    "version": 2
   },
   "file_extension": ".py",
   "mimetype": "text/x-python",
   "name": "python",
   "nbconvert_exporter": "python",
   "pygments_lexer": "ipython2",
   "version": "2.7.14"
  }
 },
 "nbformat": 4,
 "nbformat_minor": 2
}
