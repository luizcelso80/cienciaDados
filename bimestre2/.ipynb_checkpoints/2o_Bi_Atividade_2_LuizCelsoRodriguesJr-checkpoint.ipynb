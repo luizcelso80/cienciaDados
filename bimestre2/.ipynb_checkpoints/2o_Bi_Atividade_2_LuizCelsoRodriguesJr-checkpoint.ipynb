{
 "cells": [
  {
   "cell_type": "markdown",
   "metadata": {},
   "source": [
    "<h3>1. Explique com exemplos os conceitos de depêndencia e indepêndencia de eventos</h3>"
   ]
  },
  {
   "cell_type": "markdown",
   "metadata": {},
   "source": [
    "R.: Dois eventos são dependentes quendo, saber a ocorrencia do primeiro evento interfere no segundo.Ex Qual a probabilidade de sair 2 caras no lancamento de 2 moedas sabendo que o primeiro lancamento deu cara? saber que o primeiro lancamento deu cara interfere na probabilidade. No contrario os eventos são independentes, neste caso para saber a probabilidade , basta multiplicar a probabilidade de um evento com a do outro."
   ]
  },
  {
   "cell_type": "markdown",
   "metadata": {},
   "source": [
    "<h3>2. Observe a imagem abaixo para responder as questões a seguir:</h3>\n",
    "<img src=\"Atividade2-2bi.png\"><br>\n",
    "<h4>a) Considerando que a linha azul contínua refere-se a curva normal padrão, cujos parâmetros são média=0 e desvio padrão=1, explique as demais curvas.<br>\n",
    "b) Implemente a função de distribuição normal e imprima um gráfico igual. </h4>"
   ]
  },
  {
   "cell_type": "markdown",
   "metadata": {},
   "source": [
    "R. a)"
   ]
  },
  {
   "cell_type": "code",
   "execution_count": 22,
   "metadata": {},
   "outputs": [],
   "source": [
    "import math\n",
    "import matplotlib.pyplot as plt"
   ]
  },
  {
   "cell_type": "markdown",
   "metadata": {},
   "source": [
    "<h3>3. Dado o problema da família com dois filhos desconhecidos, implemente um código que demonstre a probalidade de ambos serem meninas sabendo-se que a mais velha é menina e de ambas serem meninas sabendo-se que ao menos uma é menina.</h3>"
   ]
  },
  {
   "cell_type": "code",
   "execution_count": 91,
   "metadata": {},
   "outputs": [
    {
     "name": "stdout",
     "output_type": "stream",
     "text": [
      "P(Ambas | velha): 0.498220640569\n",
      "P(Ambas | ao_menos_uma):  0.335106382979\n"
     ]
    }
   ],
   "source": [
    "import random\n",
    "from __future__ import division\n",
    "\n",
    "def random_nascimento():\n",
    "    return random.choice([\"menino\", \"menina\"])\n",
    "\n",
    "duas_meninas = 0\n",
    "menina_mais_velha = 0\n",
    "ao_menos_uma = 0\n",
    "random.seed(0)\n",
    "\n",
    "for _ in range(5000):\n",
    "    nova = random_nascimento()\n",
    "    velha = random_nascimento()\n",
    "    if velha == \"menina\":\n",
    "        menina_mais_velha += 1\n",
    "    if velha == \"menina\" and nova == \"menina\":\n",
    "        duas_meninas += 1\n",
    "    if velha == \"menina\" or nova == \"menina\":\n",
    "        ao_menos_uma += 1\n",
    "        \n",
    "print \"P(Ambas | velha):\", duas_meninas / menina_mais_velha \n",
    "print \"P(Ambas | ao_menos_uma): \", duas_meninas / ao_menos_uma "
   ]
  },
  {
   "cell_type": "markdown",
   "metadata": {},
   "source": [
    "<h3>4. Dado o problema do lançamento de uma moeda justa duas vezes, implemente um código que demonstre a probalidade de sair duas caras sabendo-se que saiu cara no primeiro lançamento.</h4>"
   ]
  },
  {
   "cell_type": "code",
   "execution_count": 20,
   "metadata": {},
   "outputs": [
    {
     "name": "stdout",
     "output_type": "stream",
     "text": [
      "P(Ambas | cara): 0.498345532939\n"
     ]
    }
   ],
   "source": [
    "def cara_coroa():\n",
    "    return random.choice([\"cara\", \"coroa\"])\n",
    "\n",
    "ambas = 0\n",
    "primeira_cara = 0\n",
    "random.seed(0)\n",
    "\n",
    "for _ in range(20000):\n",
    "    primeira = cara_coroa()\n",
    "    segunda = cara_coroa()\n",
    "    \n",
    "    if primeira == \"cara\":\n",
    "        primeira_cara += 1\n",
    "    if primeira == \"cara\" and segunda == \"cara\":\n",
    "        ambas += 1\n",
    "        \n",
    "print \"P(Ambas | cara):\", ambas / primeira_cara "
   ]
  },
  {
   "cell_type": "markdown",
   "metadata": {},
   "source": [
    "<h3>5. Implemente a função de distribuição cumulativa (cdf) e imprima um gráfico como a seguir:</h3>\n",
    "<img src=\"Atividade2b-2bi.png\" height=\"50%\" width=\"50%\"><br>"
   ]
  },
  {
   "cell_type": "code",
   "execution_count": 60,
   "metadata": {},
   "outputs": [
    {
     "data": {
      "image/png": "[encoded data removed]",
      "text/plain": [
       "<matplotlib.figure.Figure at 0xbb85128>"
      ]
     },
     "metadata": {},
     "output_type": "display_data"
    }
   ],
   "source": [
    "def uniform_cdf(x):\n",
    "    if x < 0: return 0\n",
    "    elif x < 1: return x\n",
    "    else: return 1\n",
    "    \n",
    "xs = [x / 10 for x in range(-10, 20)]\n",
    "plt.plot(xs,[uniform_cdf(x) for x in xs],'-',label='Distribuicao cumulativa')\n",
    "plt.legend()\n",
    "plt.axis([-1, 2, -1, 1.5])\n",
    "plt.title(\"Distribuicao cumulativa\")\n",
    "plt.show()"
   ]
  },
  {
   "cell_type": "markdown",
   "metadata": {},
   "source": [
    "<h3>6. Explique o conceito de variáveis aleatórias e dê 2 exemplos</h3>"
   ]
  },
  {
   "cell_type": "markdown",
   "metadata": {},
   "source": [
    "R. "
   ]
  },
  {
   "cell_type": "markdown",
   "metadata": {},
   "source": [
    "<h3>7. Implemente a função de densidade de probabilidade (PDF) e imprima o gráfico que a representa."
   ]
  },
  {
   "cell_type": "code",
   "execution_count": 86,
   "metadata": {},
   "outputs": [
    {
     "data": {
      "image/png": "[encoded data removed]",
      "text/plain": [
       "<matplotlib.figure.Figure at 0xb740518>"
      ]
     },
     "metadata": {},
     "output_type": "display_data"
    }
   ],
   "source": [
    "def uniform_pdf(x):\n",
    "    return 1 if x >= 0 and x < 1 else 0\n",
    "\n",
    "xs = [x / 100 for x in range(-90, 90)]\n",
    "plt.plot(xs,[uniform_pdf(x) for x in xs],'-')\n",
    "plt.legend()\n",
    "\n",
    "plt.axis([-1.04, 1, -0.1, 1.05])\n",
    "plt.title(\"Densidade de probabilidade\")\n",
    "plt.show()"
   ]
  },
  {
   "cell_type": "markdown",
   "metadata": {},
   "source": [
    "<h3>8. Qual fórmula define o teorema de Bayes? O que este teorema define? Porque ele é importante para o cientista de dados?</h3>"
   ]
  },
  {
   "cell_type": "markdown",
   "metadata": {},
   "source": [
    "R.O foco do teorema é a probabilidade condicionada. Ou seja, fala da probabilidade de uma teoria ou hipótese ser verdadeira se tiver havido determinado acontecimento. Em sua forma mais básica, trata-se apenas de uma expressão algébrica com quatro variáveis – três conhecidas e uma desconhecida. Porém, apesar de sua simplicidade, ela pode nos conduzir a vastas percepções no âmbito das previsões. O foco do teorema é a probabilidade condicionada. Ou seja, fala da probabilidade de uma teoria ou hipótese ser verdadeira se tiver havido determinado acontecimento.\n",
    "\n",
    "P(A|B) = P(B|A)P(A)/P(B)"
   ]
  },
  {
   "cell_type": "markdown",
   "metadata": {},
   "source": [
    "<h3>9. Desenvolva o teorema de Bayes graficamente a partir da imagem a seguir:</h3>\n",
    "<img src=\"Atividade2c-2bi.png\" height=\"40%\" width=\"40%\"><br>"
   ]
  },
  {
   "cell_type": "markdown",
   "metadata": {},
   "source": [
    "<h3>10. Defina probabilidade, explique sua fórmula e calcule:</h3>\n",
    "<h4>a. A probabilidade de sair um valor múltiplo de 2 em um lançamento simultâneo de dois dados comuns.\n",
    "<br>b. A probabilidade de sair cara 6 em um lançamento simultâneo de uma moeda e um dado comuns.\n",
    "<br>c. A probabilidade de você ficar com média 10 na disciplina de Ciências de Dados I</h4>"
   ]
  },
  {
   "cell_type": "markdown",
   "metadata": {
    "collapsed": true
   },
   "source": [
    "Probabilidade é o estudo sobre experimentos que, mesmo realizados em condições bastante parecidas, l\n",
    "apresentam resultados \n",
    "que não são possíveis de prever. Por exemplo: o experimento cara ou coroa, mesmo realizado repetidas vezes,\n",
    "não pode ser previsto, pois, cada vez que a moeda for lançada, o resultado poderá ser diferente.\n",
    "p = N(A)/N(S)\n",
    "\n",
    "a. 5/12\n",
    "b. 1/12\n",
    "c. 1/6"
   ]
  }
 ],
 "metadata": {
  "kernelspec": {
   "display_name": "Python 2",
   "language": "python",
   "name": "python2"
  },
  "language_info": {
   "codemirror_mode": {
    "name": "ipython",
    "version": 2
   },
   "file_extension": ".py",
   "mimetype": "text/x-python",
   "name": "python",
   "nbconvert_exporter": "python",
   "pygments_lexer": "ipython2",
   "version": "2.7.14"
  }
 },
 "nbformat": 4,
 "nbformat_minor": 2
}
