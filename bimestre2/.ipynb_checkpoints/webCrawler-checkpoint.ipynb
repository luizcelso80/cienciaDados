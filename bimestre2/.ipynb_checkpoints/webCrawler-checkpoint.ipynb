{
 "cells": [
  {
   "cell_type": "code",
   "execution_count": 6,
   "metadata": {},
   "outputs": [],
   "source": [
    "import requests\n",
    "from bs4 import BeautifulSoup\n",
    "\n",
    "\n",
    "def trade_spider(max_pages):\n",
    "    page = 1\n",
    "    while page <= max_pages:\n",
    "        url = 'https://lista.mercadolivre.com.br/beleza-cuidado-pessoal/produtos-cabelo/aneethun_Desde_' + str(page)\n",
    "        source_cod = requests.get(url)\n",
    "        plain_text = source_cod.text\n",
    "        soup = BeautifulSoup(plain_text, \"lxml\")\n",
    "        for link in soup.findAll('a', {'class': ' '}):\n",
    "            href = link.get('href')\n",
    "            nome = link.string\n",
    "            cada_item(href)\n",
    "        page += 48\n",
    "\n",
    "\n",
    "def cada_item(item_url):\n",
    "    source_cod = requests.get(item_url)\n",
    "    plain_text = source_cod.text\n",
    "    soup = BeautifulSoup(plain_text, \"lxml\")\n",
    "    for link in soup.findAll('a', {'title': 'Ver mais dados deste vendedor'}):\n",
    "        href = link.get('href')\n",
    "        href\n",
    "        cidade(href)\n",
    "\n",
    "\n",
    "def cidade(cidade_url):\n",
    "    source_cod = requests.get(cidade_url)\n",
    "    plain_text = source_cod.text\n",
    "    soup = BeautifulSoup(plain_text, \"lxml\")\n",
    "    for link in soup.findAll('h3'):\n",
    "        link"
   ]
  },
  {
   "cell_type": "code",
   "execution_count": 7,
   "metadata": {},
   "outputs": [],
   "source": [
    "trade_spider(3)"
   ]
  },
  {
   "cell_type": "code",
   "execution_count": null,
   "metadata": {},
   "outputs": [],
   "source": []
  }
 ],
 "metadata": {
  "kernelspec": {
   "display_name": "Python 2",
   "language": "python",
   "name": "python2"
  },
  "language_info": {
   "codemirror_mode": {
    "name": "ipython",
    "version": 2
   },
   "file_extension": ".py",
   "mimetype": "text/x-python",
   "name": "python",
   "nbconvert_exporter": "python",
   "pygments_lexer": "ipython2",
   "version": "2.7.14"
  }
 },
 "nbformat": 4,
 "nbformat_minor": 2
}
