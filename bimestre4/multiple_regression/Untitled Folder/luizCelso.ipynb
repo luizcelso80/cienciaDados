{
 "cells": [
  {
   "cell_type": "code",
   "execution_count": 1,
   "metadata": {},
   "outputs": [
    {
     "name": "stdout",
     "output_type": "stream",
     "text": [
      "R2 =  0.001218592868417634\n"
     ]
    },
    {
     "data": {
      "text/plain": [
       "\"data['age']\""
      ]
     },
     "execution_count": 1,
     "metadata": {},
     "output_type": "execute_result"
    }
   ],
   "source": [
    "import pandas as pd\n",
    "from regressao_multipla import *\n",
    "\n",
    "data = pd.read_csv('titanic.csv', delimiter=',', usecols=(0,1,2,3))\n",
    "\"\"\"data['age']\"\"\""
   ]
  },
  {
   "cell_type": "code",
   "execution_count": 2,
   "metadata": {},
   "outputs": [],
   "source": [
    "y = [1 if y=='yes' else 0 for y in data['survived']]\n",
    "\n",
    "x = [[1, 1 if x1=='1st class' else 2 if x1=='2nd class' else 3,\n",
    "     0 if x2=='adults' else 1,\n",
    "     0 if x3=='man' else 1]\n",
    "     for x1,x2,x3,_ in data.values]"
   ]
  },
  {
   "cell_type": "code",
   "execution_count": 3,
   "metadata": {},
   "outputs": [
    {
     "name": "stdout",
     "output_type": "stream",
     "text": [
      "Beta=  [0.8444218515250481, 0.7579544029403025, 0.420571580830845, 0.25891675029296335]\n"
     ]
    }
   ],
   "source": [
    "random.seed(0)\n",
    "beta = estimate_beta(x, y)\n",
    "print(\"Beta= \",beta)"
   ]
  },
  {
   "cell_type": "code",
   "execution_count": 4,
   "metadata": {},
   "outputs": [
    {
     "name": "stdout",
     "output_type": "stream",
     "text": [
      "R2 =  -25.27949451653472\n"
     ]
    }
   ],
   "source": [
    "print(\"R2 = \",multiple_r_squared(x,y,beta))"
   ]
  },
  {
   "cell_type": "code",
   "execution_count": null,
   "metadata": {},
   "outputs": [],
   "source": []
  },
  {
   "cell_type": "code",
   "execution_count": null,
   "metadata": {},
   "outputs": [],
   "source": []
  }
 ],
 "metadata": {
  "kernelspec": {
   "display_name": "Python 3",
   "language": "python",
   "name": "python3"
  },
  "language_info": {
   "codemirror_mode": {
    "name": "ipython",
    "version": 3
   },
   "file_extension": ".py",
   "mimetype": "text/x-python",
   "name": "python",
   "nbconvert_exporter": "python",
   "pygments_lexer": "ipython3",
   "version": "3.6.5"
  }
 },
 "nbformat": 4,
 "nbformat_minor": 2
}
