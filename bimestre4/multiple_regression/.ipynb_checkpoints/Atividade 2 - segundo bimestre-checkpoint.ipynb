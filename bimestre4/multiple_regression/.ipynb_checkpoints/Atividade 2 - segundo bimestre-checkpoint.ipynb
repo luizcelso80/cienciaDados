{
 "cells": [
  {
   "cell_type": "code",
   "execution_count": null,
   "metadata": {},
   "outputs": [],
   "source": [
    "from collections import Counter\n",
    "from functools import partial\n",
    "from linear_algebra import *\n",
    "from stats import median, standard_deviation\n",
    "from probability import normal_cdf\n",
    "from gradient_descent import maximize_batch, maximize_stochastic, minimize_stochastic\n",
    "from simple_linear_regression import total_sum_of_squares\n",
    "from working_with_data import rescale\n",
    "from machine_learning import train_test_split\n",
    "import math, random\n",
    "import pandas as pd\n",
    "import numpy as np\n",
    "from matplotlib import pyplot as plt"
   ]
  },
  {
   "cell_type": "code",
   "execution_count": null,
   "metadata": {},
   "outputs": [],
   "source": [
    "def precision(tp, fp, fn, tn):\n",
    "    return tp / (tp + fp)\n",
    "\n",
    "def recall(tp, fp, fn, tn):\n",
    "    return tp / (tp + fn)\n",
    "\n",
    "def f1_score(tp, fp, fn, tn):\n",
    "    p = precision(tp, fp, fn, tn)\n",
    "    r = recall(tp, fp, fn, tn)\n",
    "    return 2 * p * r / (p + r)\n",
    "\n",
    "def predict(x_i, beta):\n",
    "    return dot(x_i, beta)\n",
    "\n",
    "def error(x_i, y_i, beta):\n",
    "    return y_i - predict(x_i, beta)\n",
    "\n",
    "def squared_error(x_i, y_i, beta):\n",
    "    return error(x_i, y_i, beta) ** 2\n",
    "\n",
    "def squared_error_gradient(x_i, y_i, beta):\n",
    "    \"\"\"the gradient corresponding to the ith squared error term\"\"\"\n",
    "    return [-2 * x_ij * error(x_i, y_i, beta)\n",
    "            for x_ij in x_i]\n",
    "\n",
    "def estimate_beta(x, y):\n",
    "    beta_initial = [random.random() for x_i in x[0]]\n",
    "    return minimize_stochastic(squared_error,\n",
    "                               squared_error_gradient,\n",
    "                               x, y,\n",
    "                               beta_initial,\n",
    "                               0.001)\n",
    "\n",
    "def multiple_r_squared(x, y, beta):\n",
    "    sum_of_squared_errors = sum(error(x_i, y_i, beta) ** 2\n",
    "                                for x_i, y_i in zip(x, y))\n",
    "    return 1.0 - sum_of_squared_errors / total_sum_of_squares(y)\n",
    "\n",
    "def logistic(x):\n",
    "    return 1.0 / (1 + math.exp(-x))\n",
    "\n",
    "def logistic_log_likelihood_i(x_i,y_i,beta):\n",
    "    if y_i == 1:\n",
    "        return math.log(logistic(dot(x_i,beta)))\n",
    "    else:\n",
    "        return math.log(1 - logistic(dot(x_i,beta)))\n",
    "    \n",
    "def logistic_log_likelihood(x,y,beta):\n",
    "    return sum(logistic_log_likelihood_i(x_i,y_i,beta) for x_i,y_i in zip(x,y))\n",
    "\n",
    "def logistic_log_partial_ij(x_i,y_i,beta,j):\n",
    "    return(y_i - logistic(dot(x_i,beta))) * x_i[j]\n",
    "\n",
    "def logistic_log_gradient_i(x_i,y_i,beta):\n",
    "    return [logistic_log_partial_ij(x_i,y_i,beta,j) for j,_ in enumerate(beta)]\n",
    "\n",
    "def logistic_log_gradient(x,y,beta):\n",
    "    return reduce(vector_add, [logistic_log_gradient_i(x_i,y_i,beta) for x_i,y_i in zip(x,y)])\n",
    "\n"
   ]
  },
  {
   "cell_type": "code",
   "execution_count": null,
   "metadata": {},
   "outputs": [],
   "source": [
    "df=pd.read_csv('titanic.csv', sep=',',skiprows=[0],header=None)\n"
   ]
  },
  {
   "cell_type": "code",
   "execution_count": null,
   "metadata": {},
   "outputs": [],
   "source": [
    "datay = [ 1 if y[3] == 'yes' else 0 for y in df.values]"
   ]
  },
  {
   "cell_type": "code",
   "execution_count": null,
   "metadata": {},
   "outputs": [],
   "source": [
    "datax = [[1,1 if x[0] == '1st class' else 2 if x[0] == '2nd class' else 3,\n",
    "         0 if x[1] == 'adults' else 1 ,\n",
    "         0 if x[2] == 'man' else 1] for x in df.values]"
   ]
  },
  {
   "cell_type": "code",
   "execution_count": null,
   "metadata": {},
   "outputs": [],
   "source": [
    "random.seed(0)\n",
    "beta = estimate_beta(datax,datay)\n",
    "beta"
   ]
  },
  {
   "cell_type": "code",
   "execution_count": null,
   "metadata": {},
   "outputs": [],
   "source": [
    "print(\"R2 = \", multiple_r_squared(datax,datay,beta))"
   ]
  },
  {
   "cell_type": "code",
   "execution_count": null,
   "metadata": {},
   "outputs": [],
   "source": [
    "random.seed(0)\n",
    "x_train, x_test, y_train, y_test = train_test_split(datax, datay, 0.33)\n",
    "beta = estimate_beta(datax,datay)"
   ]
  },
  {
   "cell_type": "code",
   "execution_count": null,
   "metadata": {},
   "outputs": [],
   "source": [
    "tp = fp = tn = fn = 0\n",
    "for x_i, y_i in zip(x_test, y_test):\n",
    "    predict1 = predict(x_i,beta)\n",
    "    if y_i == 1 and predict1 >= 0.5:\n",
    "        tp += 1\n",
    "    elif y_i == 1:\n",
    "        fn += 1\n",
    "    elif predict1 >= 0.5:\n",
    "        fp += 1\n",
    "    else:\n",
    "        tn += 1"
   ]
  },
  {
   "cell_type": "code",
   "execution_count": null,
   "metadata": {},
   "outputs": [],
   "source": [
    "precision1 = precision(tp, fp, fn, tn)\n",
    "recall1 = recall(tp, fp, fn, tn)\n",
    "f1 = f1_score(tp, fp, fn, tn)"
   ]
  },
  {
   "cell_type": "code",
   "execution_count": null,
   "metadata": {},
   "outputs": [],
   "source": [
    "print(precision1, recall1,f1)"
   ]
  },
  {
   "cell_type": "code",
   "execution_count": null,
   "metadata": {},
   "outputs": [],
   "source": [
    "rescaled_x = rescale(datax)\n",
    "beta = estimate_beta(rescaled_x, datay)\n"
   ]
  },
  {
   "cell_type": "code",
   "execution_count": null,
   "metadata": {},
   "outputs": [],
   "source": [
    "predictions = [predict(xi, beta) for xi in rescaled_x]"
   ]
  },
  {
   "cell_type": "code",
   "execution_count": null,
   "metadata": {},
   "outputs": [],
   "source": [
    "plt.scatter(predictions, datay)\n",
    "plt.xlabel('predito')\n",
    "plt.ylabel('real')\n",
    "plt.show()"
   ]
  },
  {
   "cell_type": "code",
   "execution_count": null,
   "metadata": {},
   "outputs": [],
   "source": [
    "random.seed(0)\n",
    "x_train, x_test, y_train, Y_test = train_test_split(rescaled_x, datay, 0.33)"
   ]
  },
  {
   "cell_type": "code",
   "execution_count": null,
   "metadata": {},
   "outputs": [],
   "source": [
    "fn = partial(logistic_log_likelihood, x_train, y_train)"
   ]
  },
  {
   "cell_type": "code",
   "execution_count": null,
   "metadata": {},
   "outputs": [],
   "source": [
    "gradient_fn = partial(logistic_log_gradient, x_train,y_train)"
   ]
  },
  {
   "cell_type": "code",
   "execution_count": null,
   "metadata": {},
   "outputs": [],
   "source": [
    "beta_0 = [random.random() for _ in range(3)]"
   ]
  },
  {
   "cell_type": "code",
   "execution_count": null,
   "metadata": {},
   "outputs": [],
   "source": [
    "beta_hat = maximize_batch(fn, gradient_fn, beta_0)"
   ]
  },
  {
   "cell_type": "code",
   "execution_count": null,
   "metadata": {},
   "outputs": [],
   "source": [
    "beta_hat"
   ]
  },
  {
   "cell_type": "code",
   "execution_count": null,
   "metadata": {},
   "outputs": [],
   "source": [
    "beta_hat = maximize_stochastic(logistic_log_likelihood_i, logistic_log_gradient_i, x_train, y_train, beta_0)"
   ]
  },
  {
   "cell_type": "code",
   "execution_count": null,
   "metadata": {},
   "outputs": [],
   "source": [
    "beta_hat"
   ]
  },
  {
   "cell_type": "code",
   "execution_count": null,
   "metadata": {},
   "outputs": [],
   "source": [
    "predictions = [logistic(dot(beta_hat, x_i)) for x_i in x_test]\n",
    "plt.scatter(predictions, Y_test)\n",
    "plt.xlabel(\"probabilidade predita\")\n",
    "plt.ylabel(\"saida real\")\n",
    "plt.title(\"Regressao logistica predita x real\")\n",
    "plt.show()"
   ]
  },
  {
   "cell_type": "code",
   "execution_count": null,
   "metadata": {},
   "outputs": [],
   "source": [
    "tp = fp = tn = fn = 0\n",
    "for x_i, y_i in zip(x_test, Y_test):\n",
    "    predict = logistic(dot(beta_hat, x_i))\n",
    "    if y_i == 1 and predict >= 0.5:\n",
    "        tp += 1\n",
    "    elif y_i == 1:\n",
    "        fn += 1\n",
    "    elif predict >= 0.5:\n",
    "        fp += 1\n",
    "    else:\n",
    "        tn += 1\n",
    "        \n",
    "\n",
    "precision1 = precision(tp, fp, fn, tn)\n",
    "recall1 = recall(tp, fp, fn, tn)\n"
   ]
  },
  {
   "cell_type": "code",
   "execution_count": null,
   "metadata": {},
   "outputs": [],
   "source": [
    "precision1\n"
   ]
  },
  {
   "cell_type": "code",
   "execution_count": null,
   "metadata": {},
   "outputs": [],
   "source": [
    "recall1"
   ]
  },
  {
   "cell_type": "code",
   "execution_count": null,
   "metadata": {},
   "outputs": [],
   "source": [
    "\n",
    "f1 = f1_score(tp, fp, fn, tn)\n",
    "f1"
   ]
  },
  {
   "cell_type": "code",
   "execution_count": null,
   "metadata": {},
   "outputs": [],
   "source": []
  }
 ],
 "metadata": {
  "kernelspec": {
   "display_name": "Python 3",
   "language": "python",
   "name": "python3"
  },
  "language_info": {
   "codemirror_mode": {
    "name": "ipython",
    "version": 3
   },
   "file_extension": ".py",
   "mimetype": "text/x-python",
   "name": "python",
   "nbconvert_exporter": "python",
   "pygments_lexer": "ipython3",
   "version": "3.6.5"
  }
 },
 "nbformat": 4,
 "nbformat_minor": 2
}
