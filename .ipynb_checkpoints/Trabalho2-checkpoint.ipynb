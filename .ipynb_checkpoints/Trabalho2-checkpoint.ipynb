{
 "cells": [
  {
   "cell_type": "code",
   "execution_count": null,
   "metadata": {},
   "outputs": [],
   "source": [
    "from random import randint as rand\n",
    "import numpy as np\n",
    "import matplotlib.pyplot as plt\n",
    "import math\n",
    "\n"
   ]
  },
  {
   "cell_type": "markdown",
   "metadata": {},
   "source": [
    "Exercicio 1 \n",
    "Papel : Analisar cenarios com grandes volumes de dados e informacoes e atraves de tecnicas de matematica, estatistica, hacking, competencia e gerar conclusoes que possam beneficiar organizacoes privadas ou publicas ou nao governamentais.\n",
    "Perfil: Deve reunir basicamente 3 caracteristicas. Tecnicas hacker, matematica e estatistica, competencia(conhecer o negocio onde esta inserido)"
   ]
  },
  {
   "cell_type": "markdown",
   "metadata": {},
   "source": [
    "Exercicio 02"
   ]
  },
  {
   "cell_type": "code",
   "execution_count": 5,
   "metadata": {},
   "outputs": [
    {
     "name": "stdout",
     "output_type": "stream",
     "text": [
      "[[74, 86, 79, 42], [27, 74, 40, 59], [87, 84, 17, 52]]\n"
     ]
    }
   ],
   "source": [
    "\n",
    "def geraMatriz(num_rows,num_cols) :\n",
    "    return [[rand(0,100) for j in range(num_cols)] for i in range(num_rows)]\n",
    "\n",
    "def shape(A):\n",
    "    num_rows = len(A)\n",
    "    num_cols = len(A[0]) if A else 0 # number of elements in first row\n",
    "    return num_rows, num_cols\n",
    "\n",
    "def get_column(A, j):\n",
    "    return [A_i[j] # jth element of row A_i\n",
    "            for A_i in A] # for each row A_i\n",
    "\n",
    "\n",
    "\n",
    "\n",
    "\n",
    "minhaMatriz = geraMatriz(3,4)\n",
    "print minhaMatriz          "
   ]
  },
  {
   "cell_type": "code",
   "execution_count": 37,
   "metadata": {},
   "outputs": [
    {
     "name": "stdout",
     "output_type": "stream",
     "text": [
      "[[96, 90, 60, 97], [24, 7, 26, 32], [91, 84, 35, 95]]\n",
      "[70.33333333333333, 60.333333333333336, 40.333333333333336, 74.66666666666667]\n"
     ]
    }
   ],
   "source": [
    "def mediaRowCol(matriz,rowcol):\n",
    "    lin,col = shape(matriz)\n",
    "    if rowcol <> 'i' and rowcol <> 'j':\n",
    "        return 'Valor incorreto coluna ou linha'\n",
    "    if rowcol == 'i':\n",
    "        return [np.mean(matriz[i]) for i in range(0, lin)]   \n",
    "    return [np.mean(get_column(matriz, i)) for i in range(0, col)]\n",
    "        \n",
    "\n",
    "print mediaRowCol(minhaMatriz,'j')\n",
    "        \n",
    "    "
   ]
  },
  {
   "cell_type": "markdown",
   "metadata": {},
   "source": [
    "Fim exercicio 2"
   ]
  },
  {
   "cell_type": "markdown",
   "metadata": {},
   "source": [
    "Exercicio 3"
   ]
  },
  {
   "cell_type": "code",
   "execution_count": 18,
   "metadata": {},
   "outputs": [
    {
     "name": "stdout",
     "output_type": "stream",
     "text": [
      "[{'Setosa': array([[5.1, 3.5, 1.4, 0.2],\n",
      "       [4.9, 3. , 1.4, 0.2],\n",
      "       [4.7, 3.2, 1.3, 0.2],\n",
      "       [4.6, 3.1, 1.5, 0.2],\n",
      "       [5. , 3.6, 1.4, 0.2],\n",
      "       [5.4, 3.9, 1.7, 0.4],\n",
      "       [4.6, 3.4, 1.4, 0.3],\n",
      "       [5. , 3.4, 1.5, 0.2],\n",
      "       [4.4, 2.9, 1.4, 0.2],\n",
      "       [4.9, 3.1, 1.5, 0.1],\n",
      "       [5.4, 3.7, 1.5, 0.2],\n",
      "       [4.8, 3.4, 1.6, 0.2],\n",
      "       [4.8, 3. , 1.4, 0.1],\n",
      "       [4.3, 3. , 1.1, 0.1],\n",
      "       [5.8, 4. , 1.2, 0.2],\n",
      "       [5.7, 4.4, 1.5, 0.4],\n",
      "       [5.4, 3.9, 1.3, 0.4],\n",
      "       [5.1, 3.5, 1.4, 0.3],\n",
      "       [5.7, 3.8, 1.7, 0.3],\n",
      "       [5.1, 3.8, 1.5, 0.3],\n",
      "       [5.4, 3.4, 1.7, 0.2],\n",
      "       [5.1, 3.7, 1.5, 0.4],\n",
      "       [4.6, 3.6, 1. , 0.2],\n",
      "       [5.1, 3.3, 1.7, 0.5],\n",
      "       [4.8, 3.4, 1.9, 0.2],\n",
      "       [5. , 3. , 1.6, 0.2],\n",
      "       [5. , 3.4, 1.6, 0.4],\n",
      "       [5.2, 3.5, 1.5, 0.2],\n",
      "       [5.2, 3.4, 1.4, 0.2],\n",
      "       [4.7, 3.2, 1.6, 0.2],\n",
      "       [4.8, 3.1, 1.6, 0.2],\n",
      "       [5.4, 3.4, 1.5, 0.4],\n",
      "       [5.2, 4.1, 1.5, 0.1],\n",
      "       [5.5, 4.2, 1.4, 0.2],\n",
      "       [4.9, 3.1, 1.5, 0.1],\n",
      "       [5. , 3.2, 1.2, 0.2],\n",
      "       [5.5, 3.5, 1.3, 0.2],\n",
      "       [4.9, 3.1, 1.5, 0.1],\n",
      "       [4.4, 3. , 1.3, 0.2],\n",
      "       [5.1, 3.4, 1.5, 0.2],\n",
      "       [5. , 3.5, 1.3, 0.3],\n",
      "       [4.5, 2.3, 1.3, 0.3],\n",
      "       [4.4, 3.2, 1.3, 0.2],\n",
      "       [5. , 3.5, 1.6, 0.6],\n",
      "       [5.1, 3.8, 1.9, 0.4],\n",
      "       [4.8, 3. , 1.4, 0.3],\n",
      "       [5.1, 3.8, 1.6, 0.2],\n",
      "       [4.6, 3.2, 1.4, 0.2],\n",
      "       [5.3, 3.7, 1.5, 0.2],\n",
      "       [5. , 3.3, 1.4, 0.2]])}, {'Versicolor': array([[7. , 3.2, 4.7, 1.4],\n",
      "       [6.4, 3.2, 4.5, 1.5],\n",
      "       [6.9, 3.1, 4.9, 1.5],\n",
      "       [5.5, 2.3, 4. , 1.3],\n",
      "       [6.5, 2.8, 4.6, 1.5],\n",
      "       [5.7, 2.8, 4.5, 1.3],\n",
      "       [6.3, 3.3, 4.7, 1.6],\n",
      "       [4.9, 2.4, 3.3, 1. ],\n",
      "       [6.6, 2.9, 4.6, 1.3],\n",
      "       [5.2, 2.7, 3.9, 1.4],\n",
      "       [5. , 2. , 3.5, 1. ],\n",
      "       [5.9, 3. , 4.2, 1.5],\n",
      "       [6. , 2.2, 4. , 1. ],\n",
      "       [6.1, 2.9, 4.7, 1.4],\n",
      "       [5.6, 2.9, 3.6, 1.3],\n",
      "       [6.7, 3.1, 4.4, 1.4],\n",
      "       [5.6, 3. , 4.5, 1.5],\n",
      "       [5.8, 2.7, 4.1, 1. ],\n",
      "       [6.2, 2.2, 4.5, 1.5],\n",
      "       [5.6, 2.5, 3.9, 1.1],\n",
      "       [5.9, 3.2, 4.8, 1.8],\n",
      "       [6.1, 2.8, 4. , 1.3],\n",
      "       [6.3, 2.5, 4.9, 1.5],\n",
      "       [6.1, 2.8, 4.7, 1.2],\n",
      "       [6.4, 2.9, 4.3, 1.3],\n",
      "       [6.6, 3. , 4.4, 1.4],\n",
      "       [6.8, 2.8, 4.8, 1.4],\n",
      "       [6.7, 3. , 5. , 1.7],\n",
      "       [6. , 2.9, 4.5, 1.5],\n",
      "       [5.7, 2.6, 3.5, 1. ],\n",
      "       [5.5, 2.4, 3.8, 1.1],\n",
      "       [5.5, 2.4, 3.7, 1. ],\n",
      "       [5.8, 2.7, 3.9, 1.2],\n",
      "       [6. , 2.7, 5.1, 1.6],\n",
      "       [5.4, 3. , 4.5, 1.5],\n",
      "       [6. , 3.4, 4.5, 1.6],\n",
      "       [6.7, 3.1, 4.7, 1.5],\n",
      "       [6.3, 2.3, 4.4, 1.3],\n",
      "       [5.6, 3. , 4.1, 1.3],\n",
      "       [5.5, 2.5, 4. , 1.3],\n",
      "       [5.5, 2.6, 4.4, 1.2],\n",
      "       [6.1, 3. , 4.6, 1.4],\n",
      "       [5.8, 2.6, 4. , 1.2],\n",
      "       [5. , 2.3, 3.3, 1. ],\n",
      "       [5.6, 2.7, 4.2, 1.3],\n",
      "       [5.7, 3. , 4.2, 1.2],\n",
      "       [5.7, 2.9, 4.2, 1.3],\n",
      "       [6.2, 2.9, 4.3, 1.3],\n",
      "       [5.1, 2.5, 3. , 1.1],\n",
      "       [5.7, 2.8, 4.1, 1.3]])}, {'Virginica': array([[6.3, 3.3, 6. , 2.5],\n",
      "       [5.8, 2.7, 5.1, 1.9],\n",
      "       [7.1, 3. , 5.9, 2.1],\n",
      "       [6.3, 2.9, 5.6, 1.8],\n",
      "       [6.5, 3. , 5.8, 2.2],\n",
      "       [7.6, 3. , 6.6, 2.1],\n",
      "       [4.9, 2.5, 4.5, 1.7],\n",
      "       [7.3, 2.9, 6.3, 1.8],\n",
      "       [6.7, 2.5, 5.8, 1.8],\n",
      "       [7.2, 3.6, 6.1, 2.5],\n",
      "       [6.5, 3.2, 5.1, 2. ],\n",
      "       [6.4, 2.7, 5.3, 1.9],\n",
      "       [6.8, 3. , 5.5, 2.1],\n",
      "       [5.7, 2.5, 5. , 2. ],\n",
      "       [5.8, 2.8, 5.1, 2.4],\n",
      "       [6.4, 3.2, 5.3, 2.3],\n",
      "       [6.5, 3. , 5.5, 1.8],\n",
      "       [7.7, 3.8, 6.7, 2.2],\n",
      "       [7.7, 2.6, 6.9, 2.3],\n",
      "       [6. , 2.2, 5. , 1.5],\n",
      "       [6.9, 3.2, 5.7, 2.3],\n",
      "       [5.6, 2.8, 4.9, 2. ],\n",
      "       [7.7, 2.8, 6.7, 2. ],\n",
      "       [6.3, 2.7, 4.9, 1.8],\n",
      "       [6.7, 3.3, 5.7, 2.1],\n",
      "       [7.2, 3.2, 6. , 1.8],\n",
      "       [6.2, 2.8, 4.8, 1.8],\n",
      "       [6.1, 3. , 4.9, 1.8],\n",
      "       [6.4, 2.8, 5.6, 2.1],\n",
      "       [7.2, 3. , 5.8, 1.6],\n",
      "       [7.4, 2.8, 6.1, 1.9],\n",
      "       [7.9, 3.8, 6.4, 2. ],\n",
      "       [6.4, 2.8, 5.6, 2.2],\n",
      "       [6.3, 2.8, 5.1, 1.5],\n",
      "       [6.1, 2.6, 5.6, 1.4],\n",
      "       [7.7, 3. , 6.1, 2.3],\n",
      "       [6.3, 3.4, 5.6, 2.4],\n",
      "       [6.4, 3.1, 5.5, 1.8],\n",
      "       [6. , 3. , 4.8, 1.8],\n",
      "       [6.9, 3.1, 5.4, 2.1],\n",
      "       [6.7, 3.1, 5.6, 2.4],\n",
      "       [6.9, 3.1, 5.1, 2.3],\n",
      "       [5.8, 2.7, 5.1, 1.9],\n",
      "       [6.8, 3.2, 5.9, 2.3],\n",
      "       [6.7, 3.3, 5.7, 2.5],\n",
      "       [6.7, 3. , 5.2, 2.3],\n",
      "       [6.3, 2.5, 5. , 1.9],\n",
      "       [6.5, 3. , 5.2, 2. ],\n",
      "       [6.2, 3.4, 5.4, 2.3],\n",
      "       [5.9, 3. , 5.1, 1.8]])}]\n"
     ]
    }
   ],
   "source": [
    "data = np.genfromtxt('C:\\\\Users\\\\Zatara\\\\anaconda\\\\iris.data.txt', delimiter=',', usecols=(0,1,2,3))\n",
    "def flor_dict(data):\n",
    "    lib=[{\"Setosa\":data[0:50]},{\"Versicolor\":data[50:100]},{\"Virginica\":data[100:150]}]\n",
    "    return lib\n",
    "\n",
    "print flor_dict(data)"
   ]
  },
  {
   "cell_type": "markdown",
   "metadata": {},
   "source": [
    "Fim exercicio 3"
   ]
  },
  {
   "cell_type": "markdown",
   "metadata": {},
   "source": [
    "Exercicio 4 "
   ]
  },
  {
   "cell_type": "code",
   "execution_count": 46,
   "metadata": {},
   "outputs": [
    {
     "name": "stdout",
     "output_type": "stream",
     "text": [
      "virginica\n"
     ]
    }
   ],
   "source": [
    "def vector_subtract(v, w):\n",
    "    ##\n",
    "    \"\"\"subtracts corresponding elements\"\"\"\n",
    "    return [v_i - w_i\n",
    "            for v_i, w_i in zip(v, w)]\n",
    "\n",
    "def dot(v, w):\n",
    "    \"\"\"v_1 * w_1 + ... + v_n * w_n\"\"\"\n",
    "    return sum(v_i * w_i for v_i, w_i in zip(v, w))\n",
    "\n",
    "def sum_of_squares(v):\n",
    "    \"\"\"v_1 * v_1 + ... + v_n * v_n\"\"\"\n",
    "    return dot(v, v)\n",
    "\n",
    "def squared_distance(v, w):\n",
    "    \"\"\"(v_1 - w_1) ** 2 + ... + (v_n - w_n) ** 2\"\"\"\n",
    "    return sum_of_squares(vector_subtract(v, w))\n",
    "\n",
    "def magnitude(v):\n",
    "    return math.sqrt(sum_of_squares(v))\n",
    "\n",
    "def distance(v, w):\n",
    "    return magnitude(vector_subtract(v, w))\n",
    "\n",
    "def tipoFlor(nova):\n",
    "    data = np.genfromtxt('C:\\\\Users\\\\Zatara\\\\anaconda\\\\iris.data.txt', delimiter=',', usecols=(0,1,2,3))\n",
    "    setosa = [np.mean(get_column(data[0:50], i)) for i in range(0,4)]\n",
    "    versicolor = [np.mean(get_column(data[50:100], i)) for i in range(0,4)]\n",
    "    virginica = [np.mean(get_column(data[100:150], i)) for i in range(0,4)]\n",
    "\n",
    "    dist_set = distance(setosa, nova)\n",
    "    dist_ver = distance(versicolor, nova)\n",
    "    dist_vir = distance(virginica, nova)\n",
    "    \n",
    "    if dist_set < dist_ver:\n",
    "        if dist_set < dist_vir:\n",
    "            return 'setosa'\n",
    "        else:\n",
    "            return 'virginica'\n",
    "    elif dist_ver < dist_vir:\n",
    "        return 'versicolor'\n",
    "    else:\n",
    "        return 'virginica'\n",
    "    \n",
    "print tipoFlor([7.4,2.8,6.1,1.9])\n",
    "    \n",
    "    \n"
   ]
  },
  {
   "cell_type": "markdown",
   "metadata": {},
   "source": [
    "Fim exrcicio 4\n",
    "\n",
    "Ercicicio 5"
   ]
  },
  {
   "cell_type": "code",
   "execution_count": 21,
   "metadata": {},
   "outputs": [
    {
     "data": {
      "image/png": "[encoded data removed]",
      "text/plain": [
       "<matplotlib.figure.Figure at 0xaa4cc50>"
      ]
     },
     "metadata": {},
     "output_type": "display_data"
    }
   ],
   "source": [
    "import numpy as np\n",
    "from matplotlib import pyplot as plt\n",
    "CompLargs = [\"set Comp\",\"set Larg\",\"ver Comp\",\"ver Larg\",\"vir Comp\",\"vir Larg\"]\n",
    "\n",
    "setosa=[np.mean(get_column(data[0:50], i)) for i in range(0,2)]\n",
    "versicolor=[np.mean(get_column(data[50:100], i)) for i in range(0,2)]\n",
    "virginica=[np.mean(get_column(data[100:150], i)) for i in range(0,2)]\n",
    "\n",
    "medidas=setosa+versicolor+virginica\n",
    "\n",
    "xs = [i + 0.1 for i, _ in enumerate(CompLargs)]\n",
    "\n",
    "plt.bar(xs, medidas)\n",
    "plt.ylabel(\"Medidas petalas\")\n",
    "plt.title(\"Flores\") \n",
    "plt.xticks([i + 0.1 for i, _ in enumerate(CompLargs)], CompLargs)\n",
    "plt.show()"
   ]
  },
  {
   "cell_type": "markdown",
   "metadata": {},
   "source": [
    "Fim exercicio 5\n",
    "Exercicio 6"
   ]
  },
  {
   "cell_type": "code",
   "execution_count": 22,
   "metadata": {},
   "outputs": [
    {
     "data": {
      "image/png": "[encoded data removed]",
      "text/plain": [
       "<matplotlib.figure.Figure at 0xa6fbda0>"
      ]
     },
     "metadata": {},
     "output_type": "display_data"
    }
   ],
   "source": [
    "largura=[(get_column(data[50:100], i)) for i in range(2,3)]\n",
    "comprimento=[(get_column(data[50:100], i)) for i in range(3,4)]\n",
    "\n",
    "plt.scatter(largura, comprimento)\n",
    "plt.title(\"Versicolor\")\n",
    "plt.xlabel(\"Largura\")\n",
    "plt.ylabel(\"Comprimento\")\n",
    "plt.show()"
   ]
  },
  {
   "cell_type": "markdown",
   "metadata": {},
   "source": [
    "Fim exrcicio 6\n",
    "Exercicio 7"
   ]
  },
  {
   "cell_type": "code",
   "execution_count": 25,
   "metadata": {},
   "outputs": [
    {
     "data": {
      "image/png": "[encoded data removed]",
      "text/plain": [
       "<matplotlib.figure.Figure at 0xa7041d0>"
      ]
     },
     "metadata": {},
     "output_type": "display_data"
    }
   ],
   "source": [
    "data = np.genfromtxt('C:\\\\Users\\\\Zatara\\\\anaconda\\\\iris.data.txt', delimiter=',', usecols=(0,1,2,3))\n",
    "\n",
    "data[:,0]\n",
    "\n",
    "seto = data[:50,0]\n",
    "vers = data[50:100,0]\n",
    "virg = data[100:150,0]\n",
    "\n",
    "xs = [i for i, _ in enumerate(seto)]\n",
    "\n",
    "plt.plot(xs, seto, 'r-.',marker='s', label='Larg. Petala Setosa') \n",
    "plt.plot(xs, vers, 'b-.',marker='o', label='Larg. Petala Versolor') \n",
    "plt.plot(xs, virg, 'g-.',marker='*', label='Larg. Petala Virginica') \n",
    "\n",
    "plt.legend(loc=0)\n",
    "plt.show()"
   ]
  },
  {
   "cell_type": "markdown",
   "metadata": {},
   "source": [
    "Fim Exercicio 7\n",
    "Exercicio 8"
   ]
  },
  {
   "cell_type": "code",
   "execution_count": 16,
   "metadata": {},
   "outputs": [
    {
     "name": "stdout",
     "output_type": "stream",
     "text": [
      "[10572556, 13721828, 7648232, 8604261]\n",
      "[[74, 86, 79, 42], [27, 74, 40, 59], [87, 84, 17, 52]]\n"
     ]
    }
   ],
   "source": [
    "def vector_add(v, w):\n",
    "    return [v_i + w_i\n",
    "            for v_i, w_i in zip(v, w)]\n",
    "\n",
    "def vector_sum2(matriz):\n",
    "    return reduce(vector_add, matriz)\n",
    "\n",
    "def scalar_multiply(c, v):\n",
    "    \"\"\"c is a number, v is a vector\"\"\"\n",
    "    return [c * v_i for v_i in v]\n",
    "\n",
    "def vector_mean(inteiro,matriz):\n",
    "    return scalar_multiply(inteiro, vector_sum2(matriz))\n",
    "\n",
    "print vector_mean(56237,minhaMatriz)\n",
    "\n",
    "print minhaMatriz\n"
   ]
  },
  {
   "cell_type": "markdown",
   "metadata": {},
   "source": [
    "Fim exercicio 8"
   ]
  }
 ],
 "metadata": {
  "kernelspec": {
   "display_name": "Python 2",
   "language": "python",
   "name": "python2"
  },
  "language_info": {
   "codemirror_mode": {
    "name": "ipython",
    "version": 2
   },
   "file_extension": ".py",
   "mimetype": "text/x-python",
   "name": "python",
   "nbconvert_exporter": "python",
   "pygments_lexer": "ipython2",
   "version": "2.7.14"
  }
 },
 "nbformat": 4,
 "nbformat_minor": 2
}
