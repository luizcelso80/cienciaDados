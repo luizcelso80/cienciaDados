{
 "cells": [
  {
   "cell_type": "markdown",
   "metadata": {},
   "source": [
    "<h3>Trabalho 2 - Lista</h3>\n",
    "<h4>Nome: </h4>"
   ]
  },
  {
   "cell_type": "code",
   "execution_count": 1,
   "metadata": {
    "collapsed": true
   },
   "outputs": [],
   "source": [
    "import numpy as np\n",
    "import matplotlib.pyplot as plt\n",
    "%matplotlib inline"
   ]
  },
  {
   "cell_type": "markdown",
   "metadata": {},
   "source": [
    "<h4>Questão 1</h4>\n",
    "Defina o papel de Cientista de Dados e descreva o seu perfil."
   ]
  },
  {
   "cell_type": "markdown",
   "metadata": {},
   "source": [
    "<h4>Questão 2</h4>\n",
    "Escreva duas funções em Python: uma para retornar uma matriz dado o seu formato (shape) e outra que, dado uma matriz, retorne um vetor com os valores médios das linhas ou colunas, de acordo com o parâmetro informado."
   ]
  },
  {
   "cell_type": "markdown",
   "metadata": {},
   "source": [
    "<h4>Questão 3</h4>\n",
    "Importe o dataset Iris com todos os campos, incluindo a classificação do tipo de flor (rotulação). Escreva uma função que receba o dataset como parâmetro e devolva um dicionário no qual a chave é o tipo de flor e o valor é uma matriz com todos os exemplares desta flor.\n"
   ]
  },
  {
   "cell_type": "markdown",
   "metadata": {},
   "source": [
    "<h4>Questão 4</h4>\n",
    "Escreva uma função em Python que, considerando o dataset iris, dado os parametros de uma flor, devolva a sua possível classificação. Para isso, calculo a flor média para cada tipo e considere a menor distância entre a nova flor e as médias."
   ]
  },
  {
   "cell_type": "markdown",
   "metadata": {},
   "source": [
    "<h4>Questão 5</h4>\n",
    "Considerando o dataset Iris, imprima um gráfico de barras que mostre o comprimento médio e a largura média das pétalas de cada espécie."
   ]
  },
  {
   "cell_type": "markdown",
   "metadata": {},
   "source": [
    "<h4>Questão 6</h4>\n",
    "Considerando o dataset Iris, imprima um gráfico de espalhamento da largura X comprimento das sépalas da espécie Versicolor."
   ]
  },
  {
   "cell_type": "markdown",
   "metadata": {},
   "source": [
    "<h4>Questão 7</h4>\n",
    "Considerando o dataset Iris, imprima um gráfico de linhas que mostre uma comparação na variação das larguras das pétalas das 3 espécies."
   ]
  },
  {
   "cell_type": "markdown",
   "metadata": {
    "collapsed": true
   },
   "source": [
    "<h4>Questão 8</h4>\n",
    "Escreva uma função em Python que receba um valor inteiro e uma matriz, aplique a redução da dimensionalidade na matriz gerando um vetor de saída e retorne o produto escalar desse vetor pelo valor inteiro."
   ]
  },
  {
   "cell_type": "code",
   "execution_count": null,
   "metadata": {
    "collapsed": true
   },
   "outputs": [],
   "source": []
  }
 ],
 "metadata": {
  "kernelspec": {
   "display_name": "Python 2",
   "language": "python",
   "name": "python2"
  },
  "language_info": {
   "codemirror_mode": {
    "name": "ipython",
    "version": 2
   },
   "file_extension": ".py",
   "mimetype": "text/x-python",
   "name": "python",
   "nbconvert_exporter": "python",
   "pygments_lexer": "ipython2",
   "version": "2.7.14"
  }
 },
 "nbformat": 4,
 "nbformat_minor": 2
}
